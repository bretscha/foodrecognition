{
 "cells": [
  {
   "cell_type": "markdown",
   "metadata": {
    "id": "6PB5AsTjzqZk"
   },
   "source": [
    "<a href=\"https://colab.research.google.com/github/khanhlvg/tflite_raspberry_pi/blob/main/object_detection/Train_custom_model_tutorial.ipynb\" target=\"_parent\"><img src=\"https://colab.research.google.com/assets/colab-badge.svg\" alt=\"Open In Colab\"/></a>"
   ]
  },
  {
   "cell_type": "markdown",
   "metadata": {
    "id": "gf2if_fGDaWc"
   },
   "source": [
    "##### Copyright 2021 The TensorFlow Authors."
   ]
  },
  {
   "cell_type": "code",
   "execution_count": 3,
   "metadata": {
    "cellView": "form",
    "id": "jrmj83afDJrv"
   },
   "outputs": [],
   "source": [
    "#@title Licensed under the Apache License, Version 2.0 (the \"License\");\n",
    "# you may not use this file except in compliance with the License.\n",
    "# You may obtain a copy of the License at\n",
    "#\n",
    "# https://www.apache.org/licenses/LICENSE-2.0\n",
    "#\n",
    "# Unless required by applicable law or agreed to in writing, software\n",
    "# distributed under the License is distributed on an \"AS IS\" BASIS,\n",
    "# WITHOUT WARRANTIES OR CONDITIONS OF ANY KIND, either express or implied.\n",
    "# See the License for the specific language governing permissions and\n",
    "# limitations under the License."
   ]
  },
  {
   "cell_type": "markdown",
   "metadata": {
    "id": "PpJEzDG6DK2Q"
   },
   "source": [
    "# Train a custom object detection model with TensorFlow Lite Model Maker\n",
    "\n",
    "In this colab notebook, you'll learn how to use the [TensorFlow Lite Model Maker](https://www.tensorflow.org/lite/guide/model_maker) to train a custom object detection model to detect Android figurines and how to put the model on a Raspberry Pi.\n",
    "\n",
    "The Model Maker library uses *transfer learning* to simplify the process of training a TensorFlow Lite model using a custom dataset. Retraining a TensorFlow Lite model with your own custom dataset reduces the amount of training data required and will shorten the training time.\n"
   ]
  },
  {
   "cell_type": "markdown",
   "metadata": {
    "id": "BRYjtwRZGBOI"
   },
   "source": [
    "## Preparation\n",
    "\n",
    "### Install the required packages\n",
    "Start by installing the required packages, including the Model Maker package from the [GitHub repo](https://github.com/tensorflow/examples/tree/master/tensorflow_examples/lite/model_maker) and the pycocotools library you'll use for evaluation."
   ]
  },
  {
   "cell_type": "code",
   "execution_count": 2,
   "metadata": {
    "colab": {
     "base_uri": "https://localhost:8080/"
    },
    "id": "35BJmtVpAP_n",
    "outputId": "223c0117-4ffc-42f4-abed-a91556a2ee2e"
   },
   "outputs": [
    {
     "name": "stdout",
     "output_type": "stream",
     "text": [
      "Python 2.7.17\r\n"
     ]
    }
   ],
   "source": [
    "#!pip install -r requirements.txt\n",
    "#!pip install -q tflite-model-maker\n",
    "#!pip install -q tflite-support\n",
    "!python --version"
   ]
  },
  {
   "cell_type": "markdown",
   "metadata": {
    "id": "prQ86DdtD317"
   },
   "source": [
    "Import the required packages."
   ]
  },
  {
   "cell_type": "code",
   "execution_count": 1,
   "metadata": {
    "id": "l4QQTXHHATDS"
   },
   "outputs": [
    {
     "name": "stderr",
     "output_type": "stream",
     "text": [
      "2022-05-02 17:34:53.957663: W tensorflow/stream_executor/platform/default/dso_loader.cc:64] Could not load dynamic library 'libcudart.so.11.0'; dlerror: libcudart.so.11.0: cannot open shared object file: No such file or directory\n",
      "2022-05-02 17:34:53.957679: I tensorflow/stream_executor/cuda/cudart_stub.cc:29] Ignore above cudart dlerror if you do not have a GPU set up on your machine.\n"
     ]
    }
   ],
   "source": [
    "import numpy as np\n",
    "import os\n",
    "\n",
    "from tflite_model_maker.config import ExportFormat, QuantizationConfig\n",
    "from tflite_model_maker import model_spec\n",
    "from tflite_model_maker import object_detector\n",
    "\n",
    "from tflite_support import metadata\n",
    "\n",
    "import tensorflow as tf\n",
    "assert tf.__version__.startswith('2')\n",
    "\n",
    "tf.get_logger().setLevel('ERROR')\n",
    "from absl import logging\n",
    "logging.set_verbosity(logging.ERROR)"
   ]
  },
  {
   "cell_type": "markdown",
   "metadata": {
    "id": "3g6aQvXsD78P"
   },
   "source": [
    "### Prepare the dataset\n",
    "\n",
    "This dataset contains about 70 images of 2 type of Android figurines: an Android and an Android pig. This is an example image from the dataset.\n",
    "\n",
    "![android_figurine_sample.jpg](https://storage.googleapis.com/download.tensorflow.org/example_images/android_figurine_sample.jpg)\n",
    "\n",
    "We start with downloading the dataset."
   ]
  },
  {
   "cell_type": "code",
   "execution_count": 6,
   "metadata": {
    "colab": {
     "base_uri": "https://localhost:8080/"
    },
    "id": "8AGg7D4JAV62",
    "outputId": "2823df75-cb76-4e0e-d503-3a398c52eb65"
   },
   "outputs": [
    {
     "name": "stdout",
     "output_type": "stream",
     "text": [
      "--2022-04-27 14:15:22--  https://storage.googleapis.com/download.tensorflow.org/data/android_figurine.zip\n",
      "Resolving storage.googleapis.com (storage.googleapis.com)... 142.250.181.208, 172.217.16.80, 172.217.19.80, ...\n",
      "Connecting to storage.googleapis.com (storage.googleapis.com)|142.250.181.208|:443... connected.\n",
      "HTTP request sent, awaiting response... 200 OK\n",
      "Length: 14333895 (14M) [application/zip]\n",
      "Saving to: ‘android_figurine.zip’\n",
      "\n",
      "android_figurine.zi 100%[===================>]  13,67M  28,0MB/s    in 0,5s    \n",
      "\n",
      "2022-04-27 14:15:23 (28,0 MB/s) - ‘android_figurine.zip’ saved [14333895/14333895]\n",
      "\n"
     ]
    }
   ],
   "source": [
    "!wget https://storage.googleapis.com/download.tensorflow.org/data/android_figurine.zip\n",
    "!unzip -q android_figurine.zip"
   ]
  },
  {
   "cell_type": "markdown",
   "metadata": {
    "id": "Yxh3KInCFeB-"
   },
   "source": [
    "## Train the object detection model\n",
    "\n",
    "### Step 1: Load the dataset\n",
    "\n",
    "* Images in `train_data` is used to train the custom object detection model.\n",
    "* Images in `val_data` is used to check if the model can generalize well to new images that it hasn't seen before."
   ]
  },
  {
   "cell_type": "code",
   "execution_count": 2,
   "metadata": {},
   "outputs": [],
   "source": [
    "train_dir = \"res/train\"\n",
    "val_dir = \"res/val\""
   ]
  },
  {
   "cell_type": "code",
   "execution_count": 3,
   "metadata": {},
   "outputs": [],
   "source": [
    "import xml.etree.ElementTree as ET\n",
    "def rename_picture_fileformat_in_annotaion(voc_dataset_dir, annotation, file_format):\n",
    "    tree = ET.parse('{}/Annotations/{}.xml'.format(voc_dataset_dir,annotation))\n",
    "    root = tree.getroot()\n",
    "    filename_node = root.find(\"filename\")\n",
    "    filename_node.text = \"{}.{}\".format(annotation, file_format)\n",
    "    tree.write('{}/Annotations/{}.xml'.format(voc_dataset_dir,annotation))\n"
   ]
  },
  {
   "cell_type": "code",
   "execution_count": 4,
   "metadata": {},
   "outputs": [],
   "source": [
    "\n",
    "def add_pose_to_object_annotation(voc_dataset_dir,annotation):\n",
    "    tree = ET.parse('{}/Annotations/{}.xml'.format(voc_dataset_dir,annotation))\n",
    "    root = tree.getroot()\n",
    "    object_nodes = root.findall(\"object\")\n",
    "    for object_node in object_nodes:\n",
    "        ET.SubElement(object_node, 'pose').text = \"Unspecified\"\n",
    "    tree.write('{}/Annotations/{}.xml'.format(voc_dataset_dir,annotation))\n"
   ]
  },
  {
   "cell_type": "code",
   "execution_count": 5,
   "metadata": {},
   "outputs": [],
   "source": [
    "def convert_all_floats_to_ints(voc_dataset_dir, annotation):\n",
    "    tree = ET.parse('{}/Annotations/{}.xml'.format(voc_dataset_dir,annotation))\n",
    "    root = tree.getroot()\n",
    "    bndbox_nodes = root.findall(\"./object/bndbox\")\n",
    "    for bndbox_node in bndbox_nodes:\n",
    "        for child in bndbox_node.getchildren():\n",
    "            child.text = str(int(float(child.text)))\n",
    "    tree.write('{}/Annotations/{}.xml'.format(voc_dataset_dir,annotation))\n"
   ]
  },
  {
   "cell_type": "code",
   "execution_count": 6,
   "metadata": {},
   "outputs": [],
   "source": [
    "from PIL import Image\n",
    "import shutil\n",
    "import zipfile\n",
    "def order_dataset(destination_dir, voc_dataset_dir):\n",
    "\n",
    "    shutil.rmtree(destination_dir) if os.path.isdir(destination_dir) else None\n",
    "    shutil.rmtree(voc_dataset_dir) if os.path.isdir(voc_dataset_dir) else None\n",
    "    \n",
    "    assert os.path.isfile(\"{}.zip\".format(voc_dataset_dir)), \"There is no dataset named \\\"{}.zip\\\"\".format(voc_dataset_dir) \n",
    "    with zipfile.ZipFile(\"{}.zip\".format(voc_dataset_dir),\"r\") as zip_dataset:\n",
    "        zip_dataset.extractall(voc_dataset_dir)\n",
    "\n",
    "    assert os.path.isdir(voc_dataset_dir), \"The directory to the PVOC dataset \\\"{}\\\" doesnt exist\".format(voc_dataset_dir) \n",
    "\n",
    "    os.makedirs(destination_dir, exist_ok=True)\n",
    "    with open(\"{}/ImageSets/Main/default.txt\".format(voc_dataset_dir)) as file:\n",
    "        lines = [line.rstrip() for line in file]\n",
    "        try:\n",
    "            for line in lines:\n",
    "                # Files might be in PNG File after exporting in CVAT but we need JPEG\n",
    "                if os.path.isfile('{}/JPEGImages/{}.PNG'.format(voc_dataset_dir,line)):\n",
    "                    im1 = Image.open('{}/JPEGImages/{}.PNG'.format(voc_dataset_dir, line))\n",
    "                    im1.save('{}/{}.jpeg'.format(destination_dir, line))\n",
    "                    rename_picture_fileformat_in_annotaion(voc_dataset_dir, line,\"jpeg\")\n",
    "                # IF files are in JPEG just move them\n",
    "                elif os.path.isfile('{}/JPEGImages/{}.jpeg'.format(voc_dataset_dir,line)):\n",
    "                    os.replace('{}/JPEGImages/{}.jpeg'.format(voc_dataset_dir, line),'{}/{}.jpeg'.format(destination_dir, line))\n",
    "                add_pose_to_object_annotation(voc_dataset_dir, line)\n",
    "                convert_all_floats_to_ints(voc_dataset_dir,line)\n",
    "                # Move the Annotation file to the destination_dir\n",
    "                os.replace('{}/Annotations/{}.xml'.format(voc_dataset_dir, line),'{}/{}.xml'.format(destination_dir, line))\n",
    "\n",
    "            # Move the labelmap file to the destination_dir\n",
    "            os.replace('{}/labelmap.txt'.format(voc_dataset_dir),'{}/labelmap.txt'.format(destination_dir))\n",
    "            shutil.rmtree(voc_dataset_dir)\n",
    "        except:\n",
    "            print(\"No files found in {}\".format(voc_dataset_dir))\n"
   ]
  },
  {
   "cell_type": "markdown",
   "metadata": {},
   "source": [
    "### Order the dataset into train and validation\n",
    "make sure to have exported your dataset with a 'PASCAL VOC' format in CVAT.  \n",
    "\n",
    "\n",
    "| IMPORTANT!!!  The validation and the train datasets HAVE to be exported SEPARATELY!  |\n",
    "|-----------------------------------------|"
   ]
  },
  {
   "cell_type": "code",
   "execution_count": 9,
   "metadata": {},
   "outputs": [
    {
     "name": "stderr",
     "output_type": "stream",
     "text": [
      "/tmp/ipykernel_20219/1940612171.py:6: DeprecationWarning: This method will be removed in future versions.  Use 'list(elem)' or iteration over elem instead.\n",
      "  for child in bndbox_node.getchildren():\n"
     ]
    }
   ],
   "source": [
    "order_dataset(\"res/train\",\"res/train_food_pvoc\")\n",
    "order_dataset(\"res/val\",\"res/val_food_pvoc\")"
   ]
  },
  {
   "cell_type": "code",
   "execution_count": 7,
   "metadata": {},
   "outputs": [
    {
     "data": {
      "text/plain": [
       "(0, 0, 128)"
      ]
     },
     "execution_count": 7,
     "metadata": {},
     "output_type": "execute_result"
    }
   ],
   "source": [
    "from pandas import *\n",
    "def get_labels() -> list:\n",
    "    data = read_csv(\"{}/labelmap.txt\".format(train_dir),sep=\":\",)\n",
    "    labels = data['# label'].tolist()\n",
    "    try:\n",
    "        labels.remove('background')\n",
    "    except:\n",
    "        print(\"no background variables in labelmap.txt\")\n",
    "    return labels\n",
    "\n",
    "def get_label_color(label, file=\"{}/labelmap.txt\".format(train_dir)) -> list:\n",
    "    data = read_csv(file ,sep=\":\",)\n",
    "    index = data.index[data['# label'] == label].to_list()[0]\n",
    "    color_list = data['color_rgb'][index].replace(\"[\",\"\").replace(\"]\",\"\").split(\",\")\n",
    "    color=()\n",
    "    for rgbstring in color_list:\n",
    "        color = color + (int(rgbstring),)\n",
    "    return color\n",
    "\n",
    "\n",
    "get_label_color(\"grape\", \"res/train/labelmap.txt\")"
   ]
  },
  {
   "cell_type": "code",
   "execution_count": 13,
   "metadata": {
    "id": "WiAahdsQAdT7"
   },
   "outputs": [],
   "source": [
    "train_data = object_detector.DataLoader.from_pascal_voc(\n",
    "    'res/train',\n",
    "    'res/train',\n",
    "    get_labels()\n",
    ")\n",
    "\n",
    "val_data = object_detector.DataLoader.from_pascal_voc(\n",
    "    'res/val',\n",
    "    'res/val',\n",
    "    get_labels()\n",
    ")"
   ]
  },
  {
   "cell_type": "markdown",
   "metadata": {
    "id": "UNRhB8N7GHXj"
   },
   "source": [
    "### Step 2: Select a model architecture\n",
    "\n",
    "EfficientDet-Lite[0-4] are a family of mobile/IoT-friendly object detection models derived from the [EfficientDet](https://arxiv.org/abs/1911.09070) architecture.\n",
    "\n",
    "Here is the performance of each EfficientDet-Lite models compared to each others.\n",
    "\n",
    "| Model architecture | Size(MB)* | Latency(ms)** | Average Precision*** |\n",
    "|--------------------|-----------|---------------|----------------------|\n",
    "| EfficientDet-Lite0 | 4.4       | 146           | 25.69%               |\n",
    "| EfficientDet-Lite1 | 5.8       | 259           | 30.55%               |\n",
    "| EfficientDet-Lite2 | 7.2       | 396           | 33.97%               |\n",
    "| EfficientDet-Lite3 | 11.4      | 716           | 37.70%               |\n",
    "| EfficientDet-Lite4 | 19.9      | 1886          | 41.96%               |\n",
    "\n",
    "<i> * Size of the integer quantized models. <br/>\n",
    "** Latency measured on Raspberry Pi 4 using 4 threads on CPU. <br/>\n",
    "*** Average Precision is the mAP (mean Average Precision) on the COCO 2017 validation dataset.\n",
    "</i>\n",
    "\n",
    "In this notebook, we use EfficientDet-Lite0 to train our model. You can choose other model architectures depending on whether speed or accuracy is more important to you."
   ]
  },
  {
   "cell_type": "code",
   "execution_count": 11,
   "metadata": {
    "id": "GZOojrDHAY1J"
   },
   "outputs": [
    {
     "name": "stderr",
     "output_type": "stream",
     "text": [
      "2022-04-29 17:13:40.672478: I tensorflow/stream_executor/cuda/cuda_gpu_executor.cc:936] successful NUMA node read from SysFS had negative value (-1), but there must be at least one NUMA node, so returning NUMA node zero\n",
      "2022-04-29 17:13:40.672827: W tensorflow/stream_executor/platform/default/dso_loader.cc:64] Could not load dynamic library 'libcudart.so.11.0'; dlerror: libcudart.so.11.0: cannot open shared object file: No such file or directory\n",
      "2022-04-29 17:13:40.672857: W tensorflow/stream_executor/platform/default/dso_loader.cc:64] Could not load dynamic library 'libcublas.so.11'; dlerror: libcublas.so.11: cannot open shared object file: No such file or directory\n",
      "2022-04-29 17:13:40.672881: W tensorflow/stream_executor/platform/default/dso_loader.cc:64] Could not load dynamic library 'libcublasLt.so.11'; dlerror: libcublasLt.so.11: cannot open shared object file: No such file or directory\n",
      "2022-04-29 17:13:40.672904: W tensorflow/stream_executor/platform/default/dso_loader.cc:64] Could not load dynamic library 'libcufft.so.10'; dlerror: libcufft.so.10: cannot open shared object file: No such file or directory\n",
      "2022-04-29 17:13:40.672928: W tensorflow/stream_executor/platform/default/dso_loader.cc:64] Could not load dynamic library 'libcurand.so.10'; dlerror: libcurand.so.10: cannot open shared object file: No such file or directory\n",
      "2022-04-29 17:13:40.672951: W tensorflow/stream_executor/platform/default/dso_loader.cc:64] Could not load dynamic library 'libcusolver.so.11'; dlerror: libcusolver.so.11: cannot open shared object file: No such file or directory\n",
      "2022-04-29 17:13:40.672974: W tensorflow/stream_executor/platform/default/dso_loader.cc:64] Could not load dynamic library 'libcusparse.so.11'; dlerror: libcusparse.so.11: cannot open shared object file: No such file or directory\n",
      "2022-04-29 17:13:40.672997: W tensorflow/stream_executor/platform/default/dso_loader.cc:64] Could not load dynamic library 'libcudnn.so.8'; dlerror: libcudnn.so.8: cannot open shared object file: No such file or directory\n",
      "2022-04-29 17:13:40.673002: W tensorflow/core/common_runtime/gpu/gpu_device.cc:1850] Cannot dlopen some GPU libraries. Please make sure the missing libraries mentioned above are installed properly if you would like to use GPU. Follow the guide at https://www.tensorflow.org/install/gpu for how to download and setup the required libraries for your platform.\n",
      "Skipping registering GPU devices...\n",
      "2022-04-29 17:13:40.673519: I tensorflow/core/platform/cpu_feature_guard.cc:151] This TensorFlow binary is optimized with oneAPI Deep Neural Network Library (oneDNN) to use the following CPU instructions in performance-critical operations:  AVX2 FMA\n",
      "To enable them in other operations, rebuild TensorFlow with the appropriate compiler flags.\n"
     ]
    }
   ],
   "source": [
    "spec = model_spec.get('efficientdet_lite4')"
   ]
  },
  {
   "cell_type": "markdown",
   "metadata": {
    "id": "5aeDU4mIM4ft"
   },
   "source": [
    "### Step 3: Train the TensorFlow model with the training data.\n",
    "\n",
    "* Set `epochs = 20`, which means it will go through the training dataset 20 times. You can look at the validation accuracy during training and stop when you see validation loss (`val_loss`) stop decreasing to avoid overfitting.\n",
    "* Set `batch_size = 4` here so you will see that it takes 15 steps to go through the 62 images in the training dataset.\n",
    "* Set `train_whole_model=True` to fine-tune the whole model instead of just training the head layer to improve accuracy. The trade-off is that it may take longer to train the model."
   ]
  },
  {
   "cell_type": "code",
   "execution_count": 12,
   "metadata": {
    "colab": {
     "base_uri": "https://localhost:8080/"
    },
    "id": "_MClfpsJAfda",
    "outputId": "cbfc9772-a3c7-4f60-a7af-a6032de27d2f"
   },
   "outputs": [
    {
     "name": "stdout",
     "output_type": "stream",
     "text": [
      "Epoch 1/20\n"
     ]
    },
    {
     "name": "stderr",
     "output_type": "stream",
     "text": [
      "2022-04-29 17:13:53.583982: W tensorflow/core/framework/dataset.cc:768] Input of GeneratorDatasetOp::Dataset will not be optimized because the dataset does not implement the AsGraphDefInternal() method needed to apply optimizations.\n"
     ]
    },
    {
     "name": "stdout",
     "output_type": "stream",
     "text": [
      "390/390 [==============================] - ETA: 0s - det_loss: 0.9088 - cls_loss: 0.4538 - box_loss: 0.0091 - reg_l2_loss: 0.1085 - loss: 1.0173 - learning_rate: 0.0046 - gradient_norm: 4.2925"
     ]
    },
    {
     "name": "stderr",
     "output_type": "stream",
     "text": [
      "2022-04-29 17:22:32.694214: W tensorflow/core/framework/dataset.cc:768] Input of GeneratorDatasetOp::Dataset will not be optimized because the dataset does not implement the AsGraphDefInternal() method needed to apply optimizations.\n"
     ]
    },
    {
     "name": "stdout",
     "output_type": "stream",
     "text": [
      "390/390 [==============================] - 541s 1s/step - det_loss: 0.9074 - cls_loss: 0.4533 - box_loss: 0.0091 - reg_l2_loss: 0.1085 - loss: 1.0159 - learning_rate: 0.0046 - gradient_norm: 4.2869 - val_det_loss: 0.5285 - val_cls_loss: 0.3144 - val_box_loss: 0.0043 - val_reg_l2_loss: 0.1086 - val_loss: 0.6371\n",
      "Epoch 2/20\n",
      "390/390 [==============================] - ETA: 0s - det_loss: 0.4480 - cls_loss: 0.2544 - box_loss: 0.0039 - reg_l2_loss: 0.1086 - loss: 0.5566 - learning_rate: 0.0012 - gradient_norm: 3.1733"
     ]
    },
    {
     "name": "stderr",
     "output_type": "stream",
     "text": [
      "2022-04-29 17:31:06.589173: W tensorflow/core/framework/dataset.cc:768] Input of GeneratorDatasetOp::Dataset will not be optimized because the dataset does not implement the AsGraphDefInternal() method needed to apply optimizations.\n"
     ]
    },
    {
     "name": "stdout",
     "output_type": "stream",
     "text": [
      "390/390 [==============================] - 513s 1s/step - det_loss: 0.4479 - cls_loss: 0.2545 - box_loss: 0.0039 - reg_l2_loss: 0.1086 - loss: 0.5565 - learning_rate: 0.0012 - gradient_norm: 3.1733 - val_det_loss: 0.4474 - val_cls_loss: 0.2978 - val_box_loss: 0.0030 - val_reg_l2_loss: 0.1086 - val_loss: 0.5559\n",
      "Epoch 3/20\n",
      "390/390 [==============================] - ETA: 0s - det_loss: 0.4207 - cls_loss: 0.2328 - box_loss: 0.0038 - reg_l2_loss: 0.1086 - loss: 0.5293 - learning_rate: 0.0012 - gradient_norm: 3.3895"
     ]
    },
    {
     "name": "stderr",
     "output_type": "stream",
     "text": [
      "2022-04-29 17:39:39.790282: W tensorflow/core/framework/dataset.cc:768] Input of GeneratorDatasetOp::Dataset will not be optimized because the dataset does not implement the AsGraphDefInternal() method needed to apply optimizations.\n"
     ]
    },
    {
     "name": "stdout",
     "output_type": "stream",
     "text": [
      "390/390 [==============================] - 513s 1s/step - det_loss: 0.4204 - cls_loss: 0.2327 - box_loss: 0.0038 - reg_l2_loss: 0.1086 - loss: 0.5290 - learning_rate: 0.0012 - gradient_norm: 3.3857 - val_det_loss: 0.5140 - val_cls_loss: 0.3058 - val_box_loss: 0.0042 - val_reg_l2_loss: 0.1086 - val_loss: 0.6226\n",
      "Epoch 4/20\n",
      "390/390 [==============================] - ETA: 0s - det_loss: 0.3897 - cls_loss: 0.2197 - box_loss: 0.0034 - reg_l2_loss: 0.1086 - loss: 0.4982 - learning_rate: 0.0011 - gradient_norm: 3.4224"
     ]
    },
    {
     "name": "stderr",
     "output_type": "stream",
     "text": [
      "2022-04-29 17:48:12.224913: W tensorflow/core/framework/dataset.cc:768] Input of GeneratorDatasetOp::Dataset will not be optimized because the dataset does not implement the AsGraphDefInternal() method needed to apply optimizations.\n"
     ]
    },
    {
     "name": "stdout",
     "output_type": "stream",
     "text": [
      "390/390 [==============================] - 512s 1s/step - det_loss: 0.3894 - cls_loss: 0.2196 - box_loss: 0.0034 - reg_l2_loss: 0.1086 - loss: 0.4980 - learning_rate: 0.0011 - gradient_norm: 3.4215 - val_det_loss: 0.4468 - val_cls_loss: 0.2842 - val_box_loss: 0.0033 - val_reg_l2_loss: 0.1086 - val_loss: 0.5553\n",
      "Epoch 5/20\n",
      "390/390 [==============================] - ETA: 0s - det_loss: 0.3587 - cls_loss: 0.2086 - box_loss: 0.0030 - reg_l2_loss: 0.1086 - loss: 0.4673 - learning_rate: 0.0011 - gradient_norm: 3.1630"
     ]
    },
    {
     "name": "stderr",
     "output_type": "stream",
     "text": [
      "2022-04-29 17:56:45.050607: W tensorflow/core/framework/dataset.cc:768] Input of GeneratorDatasetOp::Dataset will not be optimized because the dataset does not implement the AsGraphDefInternal() method needed to apply optimizations.\n"
     ]
    },
    {
     "name": "stdout",
     "output_type": "stream",
     "text": [
      "390/390 [==============================] - 536s 1s/step - det_loss: 0.3586 - cls_loss: 0.2086 - box_loss: 0.0030 - reg_l2_loss: 0.1086 - loss: 0.4672 - learning_rate: 0.0011 - gradient_norm: 3.1639 - val_det_loss: 0.5668 - val_cls_loss: 0.3397 - val_box_loss: 0.0045 - val_reg_l2_loss: 0.1086 - val_loss: 0.6753\n",
      "Epoch 6/20\n",
      "390/390 [==============================] - ETA: 0s - det_loss: 0.3402 - cls_loss: 0.1996 - box_loss: 0.0028 - reg_l2_loss: 0.1085 - loss: 0.4487 - learning_rate: 0.0010 - gradient_norm: 3.2453"
     ]
    },
    {
     "name": "stderr",
     "output_type": "stream",
     "text": [
      "2022-04-29 18:05:42.003798: W tensorflow/core/framework/dataset.cc:768] Input of GeneratorDatasetOp::Dataset will not be optimized because the dataset does not implement the AsGraphDefInternal() method needed to apply optimizations.\n"
     ]
    },
    {
     "name": "stdout",
     "output_type": "stream",
     "text": [
      "390/390 [==============================] - 514s 1s/step - det_loss: 0.3398 - cls_loss: 0.1994 - box_loss: 0.0028 - reg_l2_loss: 0.1085 - loss: 0.4484 - learning_rate: 0.0010 - gradient_norm: 3.2443 - val_det_loss: 0.5198 - val_cls_loss: 0.3330 - val_box_loss: 0.0037 - val_reg_l2_loss: 0.1085 - val_loss: 0.6284\n",
      "Epoch 7/20\n",
      "390/390 [==============================] - ETA: 0s - det_loss: 0.3178 - cls_loss: 0.1882 - box_loss: 0.0026 - reg_l2_loss: 0.1085 - loss: 0.4264 - learning_rate: 9.2224e-04 - gradient_norm: 3.2423"
     ]
    },
    {
     "name": "stderr",
     "output_type": "stream",
     "text": [
      "2022-04-29 18:14:15.575524: W tensorflow/core/framework/dataset.cc:768] Input of GeneratorDatasetOp::Dataset will not be optimized because the dataset does not implement the AsGraphDefInternal() method needed to apply optimizations.\n"
     ]
    },
    {
     "name": "stdout",
     "output_type": "stream",
     "text": [
      "390/390 [==============================] - 514s 1s/step - det_loss: 0.3178 - cls_loss: 0.1882 - box_loss: 0.0026 - reg_l2_loss: 0.1085 - loss: 0.4264 - learning_rate: 9.2213e-04 - gradient_norm: 3.2408 - val_det_loss: 0.5781 - val_cls_loss: 0.3676 - val_box_loss: 0.0042 - val_reg_l2_loss: 0.1085 - val_loss: 0.6866\n",
      "Epoch 8/20\n",
      "390/390 [==============================] - ETA: 0s - det_loss: 0.3184 - cls_loss: 0.1899 - box_loss: 0.0026 - reg_l2_loss: 0.1085 - loss: 0.4269 - learning_rate: 8.2783e-04 - gradient_norm: 3.5617"
     ]
    },
    {
     "name": "stderr",
     "output_type": "stream",
     "text": [
      "2022-04-29 18:22:49.381435: W tensorflow/core/framework/dataset.cc:768] Input of GeneratorDatasetOp::Dataset will not be optimized because the dataset does not implement the AsGraphDefInternal() method needed to apply optimizations.\n"
     ]
    },
    {
     "name": "stdout",
     "output_type": "stream",
     "text": [
      "390/390 [==============================] - 514s 1s/step - det_loss: 0.3182 - cls_loss: 0.1899 - box_loss: 0.0026 - reg_l2_loss: 0.1085 - loss: 0.4267 - learning_rate: 8.2771e-04 - gradient_norm: 3.5602 - val_det_loss: 0.4766 - val_cls_loss: 0.3018 - val_box_loss: 0.0035 - val_reg_l2_loss: 0.1085 - val_loss: 0.5852\n",
      "Epoch 9/20\n",
      "390/390 [==============================] - ETA: 0s - det_loss: 0.2935 - cls_loss: 0.1795 - box_loss: 0.0023 - reg_l2_loss: 0.1085 - loss: 0.4020 - learning_rate: 7.2788e-04 - gradient_norm: 3.3144"
     ]
    },
    {
     "name": "stderr",
     "output_type": "stream",
     "text": [
      "2022-04-29 18:31:24.107678: W tensorflow/core/framework/dataset.cc:768] Input of GeneratorDatasetOp::Dataset will not be optimized because the dataset does not implement the AsGraphDefInternal() method needed to apply optimizations.\n"
     ]
    },
    {
     "name": "stdout",
     "output_type": "stream",
     "text": [
      "390/390 [==============================] - 514s 1s/step - det_loss: 0.2933 - cls_loss: 0.1795 - box_loss: 0.0023 - reg_l2_loss: 0.1085 - loss: 0.4018 - learning_rate: 7.2775e-04 - gradient_norm: 3.3132 - val_det_loss: 0.5627 - val_cls_loss: 0.3623 - val_box_loss: 0.0040 - val_reg_l2_loss: 0.1085 - val_loss: 0.6712\n",
      "Epoch 10/20\n",
      "390/390 [==============================] - ETA: 0s - det_loss: 0.2823 - cls_loss: 0.1733 - box_loss: 0.0022 - reg_l2_loss: 0.1085 - loss: 0.3908 - learning_rate: 6.2513e-04 - gradient_norm: 3.2629"
     ]
    },
    {
     "name": "stderr",
     "output_type": "stream",
     "text": [
      "2022-04-29 18:39:57.669042: W tensorflow/core/framework/dataset.cc:768] Input of GeneratorDatasetOp::Dataset will not be optimized because the dataset does not implement the AsGraphDefInternal() method needed to apply optimizations.\n"
     ]
    },
    {
     "name": "stdout",
     "output_type": "stream",
     "text": [
      "390/390 [==============================] - 535s 1s/step - det_loss: 0.2822 - cls_loss: 0.1732 - box_loss: 0.0022 - reg_l2_loss: 0.1085 - loss: 0.3906 - learning_rate: 6.2500e-04 - gradient_norm: 3.2594 - val_det_loss: 0.5371 - val_cls_loss: 0.3408 - val_box_loss: 0.0039 - val_reg_l2_loss: 0.1085 - val_loss: 0.6456\n",
      "Epoch 11/20\n",
      "390/390 [==============================] - ETA: 0s - det_loss: 0.2699 - cls_loss: 0.1701 - box_loss: 0.0020 - reg_l2_loss: 0.1085 - loss: 0.3784 - learning_rate: 5.2238e-04 - gradient_norm: 3.2341"
     ]
    },
    {
     "name": "stderr",
     "output_type": "stream",
     "text": [
      "2022-04-29 18:48:52.279511: W tensorflow/core/framework/dataset.cc:768] Input of GeneratorDatasetOp::Dataset will not be optimized because the dataset does not implement the AsGraphDefInternal() method needed to apply optimizations.\n"
     ]
    },
    {
     "name": "stdout",
     "output_type": "stream",
     "text": [
      "390/390 [==============================] - 514s 1s/step - det_loss: 0.2712 - cls_loss: 0.1704 - box_loss: 0.0020 - reg_l2_loss: 0.1085 - loss: 0.3797 - learning_rate: 5.2225e-04 - gradient_norm: 3.2514 - val_det_loss: 0.6110 - val_cls_loss: 0.3956 - val_box_loss: 0.0043 - val_reg_l2_loss: 0.1085 - val_loss: 0.7195\n",
      "Epoch 12/20\n",
      "390/390 [==============================] - ETA: 0s - det_loss: 0.2728 - cls_loss: 0.1717 - box_loss: 0.0020 - reg_l2_loss: 0.1085 - loss: 0.3813 - learning_rate: 4.2242e-04 - gradient_norm: 3.3480"
     ]
    },
    {
     "name": "stderr",
     "output_type": "stream",
     "text": [
      "2022-04-29 18:57:27.186338: W tensorflow/core/framework/dataset.cc:768] Input of GeneratorDatasetOp::Dataset will not be optimized because the dataset does not implement the AsGraphDefInternal() method needed to apply optimizations.\n"
     ]
    },
    {
     "name": "stdout",
     "output_type": "stream",
     "text": [
      "390/390 [==============================] - 514s 1s/step - det_loss: 0.2726 - cls_loss: 0.1716 - box_loss: 0.0020 - reg_l2_loss: 0.1085 - loss: 0.3811 - learning_rate: 4.2230e-04 - gradient_norm: 3.3449 - val_det_loss: 0.5298 - val_cls_loss: 0.3351 - val_box_loss: 0.0039 - val_reg_l2_loss: 0.1085 - val_loss: 0.6382\n",
      "Epoch 13/20\n",
      "390/390 [==============================] - ETA: 0s - det_loss: 0.2579 - cls_loss: 0.1678 - box_loss: 0.0018 - reg_l2_loss: 0.1085 - loss: 0.3663 - learning_rate: 3.2799e-04 - gradient_norm: 3.2512"
     ]
    },
    {
     "name": "stderr",
     "output_type": "stream",
     "text": [
      "2022-04-29 19:06:01.083718: W tensorflow/core/framework/dataset.cc:768] Input of GeneratorDatasetOp::Dataset will not be optimized because the dataset does not implement the AsGraphDefInternal() method needed to apply optimizations.\n"
     ]
    },
    {
     "name": "stdout",
     "output_type": "stream",
     "text": [
      "390/390 [==============================] - 514s 1s/step - det_loss: 0.2582 - cls_loss: 0.1680 - box_loss: 0.0018 - reg_l2_loss: 0.1085 - loss: 0.3666 - learning_rate: 3.2787e-04 - gradient_norm: 3.2534 - val_det_loss: 0.6579 - val_cls_loss: 0.4284 - val_box_loss: 0.0046 - val_reg_l2_loss: 0.1085 - val_loss: 0.7664\n",
      "Epoch 14/20\n",
      "390/390 [==============================] - ETA: 0s - det_loss: 0.2579 - cls_loss: 0.1667 - box_loss: 0.0018 - reg_l2_loss: 0.1085 - loss: 0.3664 - learning_rate: 2.4166e-04 - gradient_norm: 3.2413"
     ]
    },
    {
     "name": "stderr",
     "output_type": "stream",
     "text": [
      "2022-04-29 19:14:34.933747: W tensorflow/core/framework/dataset.cc:768] Input of GeneratorDatasetOp::Dataset will not be optimized because the dataset does not implement the AsGraphDefInternal() method needed to apply optimizations.\n"
     ]
    },
    {
     "name": "stdout",
     "output_type": "stream",
     "text": [
      "390/390 [==============================] - 514s 1s/step - det_loss: 0.2579 - cls_loss: 0.1667 - box_loss: 0.0018 - reg_l2_loss: 0.1085 - loss: 0.3664 - learning_rate: 2.4156e-04 - gradient_norm: 3.2406 - val_det_loss: 0.5179 - val_cls_loss: 0.3403 - val_box_loss: 0.0036 - val_reg_l2_loss: 0.1084 - val_loss: 0.6264\n",
      "Epoch 15/20\n",
      "390/390 [==============================] - ETA: 0s - det_loss: 0.2585 - cls_loss: 0.1664 - box_loss: 0.0018 - reg_l2_loss: 0.1084 - loss: 0.3670 - learning_rate: 1.6579e-04 - gradient_norm: 3.2645"
     ]
    },
    {
     "name": "stderr",
     "output_type": "stream",
     "text": [
      "2022-04-29 19:23:09.308836: W tensorflow/core/framework/dataset.cc:768] Input of GeneratorDatasetOp::Dataset will not be optimized because the dataset does not implement the AsGraphDefInternal() method needed to apply optimizations.\n"
     ]
    },
    {
     "name": "stdout",
     "output_type": "stream",
     "text": [
      "390/390 [==============================] - 535s 1s/step - det_loss: 0.2587 - cls_loss: 0.1665 - box_loss: 0.0018 - reg_l2_loss: 0.1084 - loss: 0.3672 - learning_rate: 1.6570e-04 - gradient_norm: 3.2644 - val_det_loss: 0.5396 - val_cls_loss: 0.3503 - val_box_loss: 0.0038 - val_reg_l2_loss: 0.1084 - val_loss: 0.6481\n",
      "Epoch 16/20\n",
      "390/390 [==============================] - ETA: 0s - det_loss: 0.2569 - cls_loss: 0.1643 - box_loss: 0.0019 - reg_l2_loss: 0.1084 - loss: 0.3654 - learning_rate: 1.0244e-04 - gradient_norm: 3.2299"
     ]
    },
    {
     "name": "stderr",
     "output_type": "stream",
     "text": [
      "2022-04-29 19:32:04.225126: W tensorflow/core/framework/dataset.cc:768] Input of GeneratorDatasetOp::Dataset will not be optimized because the dataset does not implement the AsGraphDefInternal() method needed to apply optimizations.\n"
     ]
    },
    {
     "name": "stdout",
     "output_type": "stream",
     "text": [
      "390/390 [==============================] - 514s 1s/step - det_loss: 0.2568 - cls_loss: 0.1642 - box_loss: 0.0019 - reg_l2_loss: 0.1084 - loss: 0.3652 - learning_rate: 1.0237e-04 - gradient_norm: 3.2281 - val_det_loss: 0.5488 - val_cls_loss: 0.3546 - val_box_loss: 0.0039 - val_reg_l2_loss: 0.1084 - val_loss: 0.6572\n",
      "Epoch 17/20\n",
      "390/390 [==============================] - ETA: 0s - det_loss: 0.2545 - cls_loss: 0.1635 - box_loss: 0.0018 - reg_l2_loss: 0.1084 - loss: 0.3629 - learning_rate: 5.3347e-05 - gradient_norm: 3.2381"
     ]
    },
    {
     "name": "stderr",
     "output_type": "stream",
     "text": [
      "2022-04-29 19:40:38.190493: W tensorflow/core/framework/dataset.cc:768] Input of GeneratorDatasetOp::Dataset will not be optimized because the dataset does not implement the AsGraphDefInternal() method needed to apply optimizations.\n"
     ]
    },
    {
     "name": "stdout",
     "output_type": "stream",
     "text": [
      "390/390 [==============================] - 514s 1s/step - det_loss: 0.2544 - cls_loss: 0.1635 - box_loss: 0.0018 - reg_l2_loss: 0.1084 - loss: 0.3628 - learning_rate: 5.3297e-05 - gradient_norm: 3.2345 - val_det_loss: 0.5580 - val_cls_loss: 0.3614 - val_box_loss: 0.0039 - val_reg_l2_loss: 0.1084 - val_loss: 0.6665\n",
      "Epoch 18/20\n",
      "390/390 [==============================] - ETA: 0s - det_loss: 0.2571 - cls_loss: 0.1652 - box_loss: 0.0018 - reg_l2_loss: 0.1084 - loss: 0.3656 - learning_rate: 1.9847e-05 - gradient_norm: 3.1871"
     ]
    },
    {
     "name": "stderr",
     "output_type": "stream",
     "text": [
      "2022-04-29 19:49:12.530619: W tensorflow/core/framework/dataset.cc:768] Input of GeneratorDatasetOp::Dataset will not be optimized because the dataset does not implement the AsGraphDefInternal() method needed to apply optimizations.\n"
     ]
    },
    {
     "name": "stdout",
     "output_type": "stream",
     "text": [
      "390/390 [==============================] - 514s 1s/step - det_loss: 0.2571 - cls_loss: 0.1652 - box_loss: 0.0018 - reg_l2_loss: 0.1084 - loss: 0.3656 - learning_rate: 1.9818e-05 - gradient_norm: 3.1862 - val_det_loss: 0.5507 - val_cls_loss: 0.3609 - val_box_loss: 0.0038 - val_reg_l2_loss: 0.1084 - val_loss: 0.6591\n",
      "Epoch 19/20\n",
      "390/390 [==============================] - ETA: 0s - det_loss: 0.2522 - cls_loss: 0.1619 - box_loss: 0.0018 - reg_l2_loss: 0.1084 - loss: 0.3607 - learning_rate: 2.8549e-06 - gradient_norm: 3.1713"
     ]
    },
    {
     "name": "stderr",
     "output_type": "stream",
     "text": [
      "2022-04-29 19:57:46.628966: W tensorflow/core/framework/dataset.cc:768] Input of GeneratorDatasetOp::Dataset will not be optimized because the dataset does not implement the AsGraphDefInternal() method needed to apply optimizations.\n"
     ]
    },
    {
     "name": "stdout",
     "output_type": "stream",
     "text": [
      "390/390 [==============================] - 514s 1s/step - det_loss: 0.2521 - cls_loss: 0.1619 - box_loss: 0.0018 - reg_l2_loss: 0.1084 - loss: 0.3606 - learning_rate: 2.8476e-06 - gradient_norm: 3.1697 - val_det_loss: 0.5536 - val_cls_loss: 0.3589 - val_box_loss: 0.0039 - val_reg_l2_loss: 0.1084 - val_loss: 0.6620\n",
      "Epoch 20/20\n",
      "390/390 [==============================] - ETA: 0s - det_loss: 0.2556 - cls_loss: 0.1657 - box_loss: 0.0018 - reg_l2_loss: 0.1084 - loss: 0.3640 - learning_rate: 2.8331e-06 - gradient_norm: 3.2378"
     ]
    },
    {
     "name": "stderr",
     "output_type": "stream",
     "text": [
      "2022-04-29 20:06:20.638468: W tensorflow/core/framework/dataset.cc:768] Input of GeneratorDatasetOp::Dataset will not be optimized because the dataset does not implement the AsGraphDefInternal() method needed to apply optimizations.\n"
     ]
    },
    {
     "name": "stdout",
     "output_type": "stream",
     "text": [
      "\b\b\b\b\b\b\b\b\b\b\b\b\b\b\b\b\b\b\b\b\b\b\b\b\b\b\b\b\b\b\b\b\b\b\b\b\b\b\b\b\b\b\b\b\b\b\b\b\b\b\b\b\b\b\b\b\b\b\b\b\b\b\b\b\b\b\b\b\b\b\b\b\b\b\b\b\b\b\b\b\b\b\b\b\b\b\b\b\b\b\b\b\b\b\b\b\b\b\b\b\b\b\b\b\b\b\b\b\b\b\b\b\b\b\b\b\b\b\b\b\b\b\b\b\b\b\b\b\b\b\b\b\b\b\b\b\b\b\b\b\b\b\b\b\b\b\b\b\b\b\b\b\b\b\b\b\b\b\b\b\b\b\b\b\b\b\b\b\b\b\b\b\b\b\b\b\b\b\b\b\b\b\b\b\b\b\b\b\b\b\b\b\b\b\b\b\r\n",
      "390/390 [==============================] - 535s 1s/step - det_loss: 0.2555 - cls_loss: 0.1657 - box_loss: 0.0018 - reg_l2_loss: 0.1084 - loss: 0.3639 - learning_rate: 2.8475e-06 - gradient_norm: 3.2356 - val_det_loss: 0.5570 - val_cls_loss: 0.3592 - val_box_loss: 0.0040 - val_reg_l2_loss: 0.1084 - val_loss: 0.6654\n"
     ]
    }
   ],
   "source": [
    "model = object_detector.create(train_data, model_spec=spec, batch_size=4, train_whole_model=True, epochs=20, validation_data=val_data)"
   ]
  },
  {
   "cell_type": "markdown",
   "metadata": {
    "id": "KB4hKeerMmh4"
   },
   "source": [
    "### Step 4. Evaluate the model with the validation data.\n",
    "\n",
    "After training the object detection model using the images in the training dataset, use the 10 images in the validation dataset to evaluate how the model performs against new data it has never seen before.\n",
    "\n",
    "As the default batch size is 64, it will take 1 step to go through the 10 images in the validation dataset.\n",
    "\n",
    "The evaluation metrics are same as [COCO](https://cocodataset.org/#detection-eval)."
   ]
  },
  {
   "cell_type": "code",
   "execution_count": 13,
   "metadata": {
    "colab": {
     "base_uri": "https://localhost:8080/"
    },
    "id": "OUqEpcYwAg8L",
    "outputId": "b359dc94-4906-4b5b-e022-77030b7a122f"
   },
   "outputs": [
    {
     "name": "stderr",
     "output_type": "stream",
     "text": [
      "2022-04-29 20:07:03.439750: W tensorflow/core/framework/dataset.cc:768] Input of GeneratorDatasetOp::Dataset will not be optimized because the dataset does not implement the AsGraphDefInternal() method needed to apply optimizations.\n",
      "2022-04-29 20:07:09.113759: W tensorflow/core/framework/cpu_allocator_impl.cc:82] Allocation of 3774873600 exceeds 10% of free system memory.\n"
     ]
    },
    {
     "name": "stdout",
     "output_type": "stream",
     "text": [
      "\r\n",
      "1/2 [==============>...............] - ETA: 17s"
     ]
    },
    {
     "name": "stderr",
     "output_type": "stream",
     "text": [
      "2022-04-29 20:07:21.300186: W tensorflow/core/framework/cpu_allocator_impl.cc:82] Allocation of 3774873600 exceeds 10% of free system memory.\n"
     ]
    },
    {
     "name": "stdout",
     "output_type": "stream",
     "text": [
      "2/2 [==============================] - 30s 13s/step\n",
      "\n"
     ]
    },
    {
     "data": {
      "text/plain": [
       "{'AP': 0.078667425,\n",
       " 'AP50': 0.1575216,\n",
       " 'AP75': 0.064298056,\n",
       " 'APs': -1.0,\n",
       " 'APm': 0.11345127,\n",
       " 'APl': 0.032402102,\n",
       " 'ARmax1': 0.078710936,\n",
       " 'ARmax10': 0.2529297,\n",
       " 'ARmax100': 0.36679688,\n",
       " 'ARs': -1.0,\n",
       " 'ARm': 0.4052721,\n",
       " 'ARl': 0.3798165,\n",
       " 'AP_/tomato': 0.11104781,\n",
       " 'AP_/cheese': -1.0,\n",
       " 'AP_/mozzarella': -1.0,\n",
       " 'AP_/grape': 0.046287037}"
      ]
     },
     "execution_count": 13,
     "metadata": {},
     "output_type": "execute_result"
    }
   ],
   "source": [
    "model.evaluate(val_data)"
   ]
  },
  {
   "cell_type": "markdown",
   "metadata": {
    "id": "NARVYk9rGLIl"
   },
   "source": [
    "### Step 5: Export as a TensorFlow Lite model.\n",
    "\n",
    "Export the trained object detection model to the TensorFlow Lite format by specifying which folder you want to export the quantized model to. The default post-training quantization technique is [full integer quantization](https://www.tensorflow.org/lite/performance/post_training_integer_quant). This allows the TensorFlow Lite model to be smaller, run faster on Raspberry Pi CPU and also compatible with the Google Coral EdgeTPU."
   ]
  },
  {
   "cell_type": "code",
   "execution_count": 14,
   "metadata": {
    "id": "_u3eFxoBAiqE"
   },
   "outputs": [
    {
     "name": "stderr",
     "output_type": "stream",
     "text": [
      "2022-04-29 20:07:34.950810: W tensorflow/python/util/util.cc:368] Sets are not currently considered sequences, but this may change in the future, so consider avoiding using them.\n",
      "2022-04-29 20:07:58.500422: W tensorflow/core/common_runtime/graph_constructor.cc:803] Node 'resample_p7/PartitionedCall' has 1 outputs but the _output_shapes attribute specifies shapes for 3 outputs. Output shapes may be inaccurate.\n",
      "2022-04-29 20:08:06.136195: W tensorflow/compiler/mlir/lite/python/tf_tfl_flatbuffer_helpers.cc:357] Ignored output_format.\n",
      "2022-04-29 20:08:06.136223: W tensorflow/compiler/mlir/lite/python/tf_tfl_flatbuffer_helpers.cc:360] Ignored drop_control_dependency.\n",
      "2022-04-29 20:08:06.136707: I tensorflow/cc/saved_model/reader.cc:43] Reading SavedModel from: /tmp/tmp0hdkutt_\n",
      "2022-04-29 20:08:06.231805: I tensorflow/cc/saved_model/reader.cc:78] Reading meta graph with tags { serve }\n",
      "2022-04-29 20:08:06.231840: I tensorflow/cc/saved_model/reader.cc:119] Reading SavedModel debug info (if present) from: /tmp/tmp0hdkutt_\n",
      "2022-04-29 20:08:06.583940: I tensorflow/cc/saved_model/loader.cc:228] Restoring SavedModel bundle.\n",
      "2022-04-29 20:08:08.408034: I tensorflow/cc/saved_model/loader.cc:212] Running initialization op on SavedModel bundle at path: /tmp/tmp0hdkutt_\n",
      "2022-04-29 20:08:09.247098: I tensorflow/cc/saved_model/loader.cc:301] SavedModel load for tags { serve }; Status: success: OK. Took 3110392 microseconds.\n",
      "2022-04-29 20:08:10.782516: I tensorflow/compiler/mlir/tensorflow/utils/dump_mlir_util.cc:237] disabling MLIR crash reproducer, set env var `MLIR_CRASH_REPRODUCER_DIRECTORY` to enable.\n",
      "2022-04-29 20:08:12.583808: I tensorflow/compiler/mlir/lite/flatbuffer_export.cc:1963] Estimated count of arithmetic ops: 37.655 G  ops, equivalently 18.827 G  MACs\n",
      "\n",
      "fully_quantize: 0, inference_type: 6, input_inference_type: 3, output_inference_type: 0\n",
      "2022-04-29 20:20:22.325171: I tensorflow/compiler/mlir/lite/flatbuffer_export.cc:1963] Estimated count of arithmetic ops: 37.655 G  ops, equivalently 18.827 G  MACs\n",
      "\n"
     ]
    }
   ],
   "source": [
    "model.export(export_dir='.', tflite_filename='foodrecognition.tflite')"
   ]
  },
  {
   "cell_type": "markdown",
   "metadata": {
    "id": "JZcBmEigOCO3"
   },
   "source": [
    "### Step 6:  Evaluate the TensorFlow Lite model.\n",
    "\n",
    "Several factors can affect the model accuracy when exporting to TFLite:\n",
    "* [Quantization](https://www.tensorflow.org/lite/performance/model_optimization) helps shrinking the model size by 4 times at the expense of some accuracy drop.\n",
    "* The original TensorFlow model uses per-class [non-max supression (NMS)](https://www.coursera.org/lecture/convolutional-neural-networks/non-max-suppression-dvrjH) for post-processing, while the TFLite model uses global NMS that's much faster but less accurate.\n",
    "Keras outputs maximum 100 detections while tflite outputs maximum 25 detections.\n",
    "\n",
    "Therefore you'll have to evaluate the exported TFLite model and compare its accuracy with the original TensorFlow model."
   ]
  },
  {
   "cell_type": "code",
   "execution_count": null,
   "metadata": {
    "colab": {
     "base_uri": "https://localhost:8080/"
    },
    "id": "Jbl8z9_wBPlr",
    "outputId": "a0893077-28d8-4362-89f2-d5197222ac79"
   },
   "outputs": [
    {
     "name": "stderr",
     "output_type": "stream",
     "text": [
      "INFO: Created TensorFlow Lite XNNPACK delegate for CPU.\n"
     ]
    },
    {
     "name": "stdout",
     "output_type": "stream",
     "text": [
      "119/128 [==========================>...] - ETA: 4:08"
     ]
    }
   ],
   "source": [
    "model.evaluate_tflite('foodrecognition.tflite', val_data)"
   ]
  },
  {
   "cell_type": "code",
   "execution_count": 13,
   "metadata": {
    "colab": {
     "base_uri": "https://localhost:8080/",
     "height": 17
    },
    "id": "v7zgUkdOUUnD",
    "outputId": "03467f8e-1a52-41c1-d596-93fa75ce1fb6"
   },
   "outputs": [
    {
     "ename": "ModuleNotFoundError",
     "evalue": "No module named 'google.colab'",
     "output_type": "error",
     "traceback": [
      "\u001b[0;31m---------------------------------------------------------------------------\u001b[0m",
      "\u001b[0;31mModuleNotFoundError\u001b[0m                       Traceback (most recent call last)",
      "\u001b[1;32m/home/bretscha/Projects/foodrecognition/Model_Maker_Object_Detection_for_Android_Figurine.ipynb Cell 23'\u001b[0m in \u001b[0;36m<cell line: 2>\u001b[0;34m()\u001b[0m\n\u001b[1;32m      <a href='vscode-notebook-cell:/home/bretscha/Projects/foodrecognition/Model_Maker_Object_Detection_for_Android_Figurine.ipynb#ch0000022?line=0'>1</a>\u001b[0m \u001b[39m# Download the TFLite model to your local computer.\u001b[39;00m\n\u001b[0;32m----> <a href='vscode-notebook-cell:/home/bretscha/Projects/foodrecognition/Model_Maker_Object_Detection_for_Android_Figurine.ipynb#ch0000022?line=1'>2</a>\u001b[0m \u001b[39mfrom\u001b[39;00m \u001b[39mgoogle\u001b[39;00m\u001b[39m.\u001b[39;00m\u001b[39mcolab\u001b[39;00m \u001b[39mimport\u001b[39;00m files\n\u001b[1;32m      <a href='vscode-notebook-cell:/home/bretscha/Projects/foodrecognition/Model_Maker_Object_Detection_for_Android_Figurine.ipynb#ch0000022?line=2'>3</a>\u001b[0m files\u001b[39m.\u001b[39mdownload(\u001b[39m'\u001b[39m\u001b[39mandroid.tflite\u001b[39m\u001b[39m'\u001b[39m)\n",
      "\u001b[0;31mModuleNotFoundError\u001b[0m: No module named 'google.colab'"
     ]
    }
   ],
   "source": [
    "# Download the TFLite model to your local computer.\n",
    "from google.colab import files\n",
    "files.download('android.tflite')"
   ]
  },
  {
   "cell_type": "markdown",
   "metadata": {
    "id": "wnqktl45PZRy"
   },
   "source": [
    "## Test the Android figurine detection model\n",
    "\n",
    "After training the model, let's test it with an image that the model hasn't seen before to get a sense of how good the model is."
   ]
  },
  {
   "cell_type": "code",
   "execution_count": 8,
   "metadata": {
    "cellView": "form",
    "id": "9ZsLQtJ1AlW_"
   },
   "outputs": [],
   "source": [
    "#@title Load the trained TFLite model and define some visualization functions\n",
    "\n",
    "#@markdown This code comes from the TFLite Object Detection [Raspberry Pi sample](https://github.com/tensorflow/examples/tree/master/lite/examples/object_detection/raspberry_pi).\n",
    "\n",
    "import platform\n",
    "from typing import List, NamedTuple\n",
    "import json\n",
    "\n",
    "import cv2\n",
    "\n",
    "Interpreter = tf.lite.Interpreter\n",
    "load_delegate = tf.lite.experimental.load_delegate\n",
    "\n",
    "# pylint: enable=g-import-not-at-top\n",
    "\n",
    "\n",
    "class ObjectDetectorOptions(NamedTuple):\n",
    "  \"\"\"A config to initialize an object detector.\"\"\"\n",
    "\n",
    "  enable_edgetpu: bool = False\n",
    "  \"\"\"Enable the model to run on EdgeTPU.\"\"\"\n",
    "\n",
    "  label_allow_list: List[str] = None\n",
    "  \"\"\"The optional allow list of labels.\"\"\"\n",
    "\n",
    "  label_deny_list: List[str] = None\n",
    "  \"\"\"The optional deny list of labels.\"\"\"\n",
    "\n",
    "  max_results: int = -1\n",
    "  \"\"\"The maximum number of top-scored detection results to return.\"\"\"\n",
    "\n",
    "  num_threads: int = 1\n",
    "  \"\"\"The number of CPU threads to be used.\"\"\"\n",
    "\n",
    "  score_threshold: float = 0.0\n",
    "  \"\"\"The score threshold of detection results to return.\"\"\"\n",
    "\n",
    "\n",
    "class Rect(NamedTuple):\n",
    "  \"\"\"A rectangle in 2D space.\"\"\"\n",
    "  left: float\n",
    "  top: float\n",
    "  right: float\n",
    "  bottom: float\n",
    "\n",
    "\n",
    "class Category(NamedTuple):\n",
    "  \"\"\"A result of a classification task.\"\"\"\n",
    "  label: str\n",
    "  score: float\n",
    "  index: int\n",
    "\n",
    "\n",
    "class Detection(NamedTuple):\n",
    "  \"\"\"A detected object as the result of an ObjectDetector.\"\"\"\n",
    "  bounding_box: Rect\n",
    "  categories: List[Category]\n",
    "\n",
    "\n",
    "def edgetpu_lib_name():\n",
    "  \"\"\"Returns the library name of EdgeTPU in the current platform.\"\"\"\n",
    "  return {\n",
    "      'Darwin': 'libedgetpu.1.dylib',\n",
    "      'Linux': 'libedgetpu.so.1',\n",
    "      'Windows': 'edgetpu.dll',\n",
    "  }.get(platform.system(), None)\n",
    "\n",
    "\n",
    "class ObjectDetector:\n",
    "  \"\"\"A wrapper class for a TFLite object detection model.\"\"\"\n",
    "\n",
    "  _OUTPUT_LOCATION_NAME = 'location'\n",
    "  _OUTPUT_CATEGORY_NAME = 'category'\n",
    "  _OUTPUT_SCORE_NAME = 'score'\n",
    "  _OUTPUT_NUMBER_NAME = 'number of detections'\n",
    "\n",
    "  def __init__(\n",
    "      self,\n",
    "      model_path: str,\n",
    "      options: ObjectDetectorOptions = ObjectDetectorOptions()\n",
    "  ) -> None:\n",
    "    \"\"\"Initialize a TFLite object detection model.\n",
    "    Args:\n",
    "        model_path: Path to the TFLite model.\n",
    "        options: The config to initialize an object detector. (Optional)\n",
    "    Raises:\n",
    "        ValueError: If the TFLite model is invalid.\n",
    "        OSError: If the current OS isn't supported by EdgeTPU.\n",
    "    \"\"\"\n",
    "\n",
    "    # Load metadata from model.\n",
    "    displayer = metadata.MetadataDisplayer.with_model_file(model_path)\n",
    "\n",
    "    # Save model metadata for preprocessing later.\n",
    "    model_metadata = json.loads(displayer.get_metadata_json())\n",
    "    process_units = model_metadata['subgraph_metadata'][0]['input_tensor_metadata'][0]['process_units']\n",
    "    mean = 0.0\n",
    "    std = 1.0\n",
    "    for option in process_units:\n",
    "      if option['options_type'] == 'NormalizationOptions':\n",
    "        mean = option['options']['mean'][0]\n",
    "        std = option['options']['std'][0]\n",
    "    self._mean = mean\n",
    "    self._std = std\n",
    "\n",
    "    # Load label list from metadata.\n",
    "    file_name = displayer.get_packed_associated_file_list()[0]\n",
    "    label_map_file = displayer.get_associated_file_buffer(file_name).decode()\n",
    "    label_list = list(filter(lambda x: len(x) > 0, label_map_file.splitlines()))\n",
    "    self._label_list = label_list\n",
    "\n",
    "    # Initialize TFLite model.\n",
    "    if options.enable_edgetpu:\n",
    "      if edgetpu_lib_name() is None:\n",
    "        raise OSError(\"The current OS isn't supported by Coral EdgeTPU.\")\n",
    "      interpreter = Interpreter(\n",
    "          model_path=model_path,\n",
    "          experimental_delegates=[load_delegate(edgetpu_lib_name())],\n",
    "          num_threads=options.num_threads)\n",
    "    else:\n",
    "      interpreter = Interpreter(\n",
    "          model_path=model_path, num_threads=options.num_threads)\n",
    "\n",
    "    interpreter.allocate_tensors()\n",
    "    input_detail = interpreter.get_input_details()[0]\n",
    "\n",
    "    # From TensorFlow 2.6, the order of the outputs become undefined.\n",
    "    # Therefore we need to sort the tensor indices of TFLite outputs and to know\n",
    "    # exactly the meaning of each output tensor. For example, if\n",
    "    # output indices are [601, 599, 598, 600], tensor names and indices aligned\n",
    "    # are:\n",
    "    #   - location: 598\n",
    "    #   - category: 599\n",
    "    #   - score: 600\n",
    "    #   - detection_count: 601\n",
    "    # because of the op's ports of TFLITE_DETECTION_POST_PROCESS\n",
    "    # (https://github.com/tensorflow/tensorflow/blob/a4fe268ea084e7d323133ed7b986e0ae259a2bc7/tensorflow/lite/kernels/detection_postprocess.cc#L47-L50).\n",
    "    sorted_output_indices = sorted(\n",
    "        [output['index'] for output in interpreter.get_output_details()])\n",
    "    self._output_indices = {\n",
    "        self._OUTPUT_LOCATION_NAME: sorted_output_indices[0],\n",
    "        self._OUTPUT_CATEGORY_NAME: sorted_output_indices[1],\n",
    "        self._OUTPUT_SCORE_NAME: sorted_output_indices[2],\n",
    "        self._OUTPUT_NUMBER_NAME: sorted_output_indices[3],\n",
    "    }\n",
    "\n",
    "    self._input_size = input_detail['shape'][2], input_detail['shape'][1]\n",
    "    self._is_quantized_input = input_detail['dtype'] == np.uint8\n",
    "    self._interpreter = interpreter\n",
    "    self._options = options\n",
    "\n",
    "  def detect(self, input_image: np.ndarray) -> List[Detection]:\n",
    "    \"\"\"Run detection on an input image.\n",
    "    Args:\n",
    "        input_image: A [height, width, 3] RGB image. Note that height and width\n",
    "          can be anything since the image will be immediately resized according\n",
    "          to the needs of the model within this function.\n",
    "    Returns:\n",
    "        A Person instance.\n",
    "    \"\"\"\n",
    "    image_height, image_width, _ = input_image.shape\n",
    "\n",
    "    input_tensor = self._preprocess(input_image)\n",
    "\n",
    "    self._set_input_tensor(input_tensor)\n",
    "    self._interpreter.invoke()\n",
    "\n",
    "    # Get all output details\n",
    "    boxes = self._get_output_tensor(self._OUTPUT_LOCATION_NAME)\n",
    "    classes = self._get_output_tensor(self._OUTPUT_CATEGORY_NAME)\n",
    "    scores = self._get_output_tensor(self._OUTPUT_SCORE_NAME)\n",
    "    count = int(self._get_output_tensor(self._OUTPUT_NUMBER_NAME))\n",
    "\n",
    "    return self._postprocess(boxes, classes, scores, count, image_width,\n",
    "                             image_height)\n",
    "\n",
    "  def _preprocess(self, input_image: np.ndarray) -> np.ndarray:\n",
    "    \"\"\"Preprocess the input image as required by the TFLite model.\"\"\"\n",
    "\n",
    "    # Resize the input\n",
    "    input_tensor = cv2.resize(input_image, self._input_size)\n",
    "\n",
    "    # Normalize the input if it's a float model (aka. not quantized)\n",
    "    if not self._is_quantized_input:\n",
    "      input_tensor = (np.float32(input_tensor) - self._mean) / self._std\n",
    "\n",
    "    # Add batch dimension\n",
    "    input_tensor = np.expand_dims(input_tensor, axis=0)\n",
    "\n",
    "    return input_tensor\n",
    "\n",
    "  def _set_input_tensor(self, image):\n",
    "    \"\"\"Sets the input tensor.\"\"\"\n",
    "    tensor_index = self._interpreter.get_input_details()[0]['index']\n",
    "    input_tensor = self._interpreter.tensor(tensor_index)()[0]\n",
    "    input_tensor[:, :] = image\n",
    "\n",
    "  def _get_output_tensor(self, name):\n",
    "    \"\"\"Returns the output tensor at the given index.\"\"\"\n",
    "    output_index = self._output_indices[name]\n",
    "    tensor = np.squeeze(self._interpreter.get_tensor(output_index))\n",
    "    return tensor\n",
    "\n",
    "  def _postprocess(self, boxes: np.ndarray, classes: np.ndarray,\n",
    "                   scores: np.ndarray, count: int, image_width: int,\n",
    "                   image_height: int) -> List[Detection]:\n",
    "    \"\"\"Post-process the output of TFLite model into a list of Detection objects.\n",
    "    Args:\n",
    "        boxes: Bounding boxes of detected objects from the TFLite model.\n",
    "        classes: Class index of the detected objects from the TFLite model.\n",
    "        scores: Confidence scores of the detected objects from the TFLite model.\n",
    "        count: Number of detected objects from the TFLite model.\n",
    "        image_width: Width of the input image.\n",
    "        image_height: Height of the input image.\n",
    "    Returns:\n",
    "        A list of Detection objects detected by the TFLite model.\n",
    "    \"\"\"\n",
    "    results = []\n",
    "\n",
    "    # Parse the model output into a list of Detection entities.\n",
    "    for i in range(count):\n",
    "      if scores[i] >= self._options.score_threshold:\n",
    "        y_min, x_min, y_max, x_max = boxes[i]\n",
    "        bounding_box = Rect(\n",
    "            top=int(y_min * image_height),\n",
    "            left=int(x_min * image_width),\n",
    "            bottom=int(y_max * image_height),\n",
    "            right=int(x_max * image_width))\n",
    "        class_id = int(classes[i])\n",
    "        category = Category(\n",
    "            score=scores[i],\n",
    "            label=self._label_list[class_id],  # 0 is reserved for background\n",
    "            index=class_id)\n",
    "        result = Detection(bounding_box=bounding_box, categories=[category])\n",
    "        results.append(result)\n",
    "\n",
    "    # Sort detection results by score ascending\n",
    "    sorted_results = sorted(\n",
    "        results,\n",
    "        key=lambda detection: detection.categories[0].score,\n",
    "        reverse=True)\n",
    "\n",
    "    # Filter out detections in deny list\n",
    "    filtered_results = sorted_results\n",
    "    if self._options.label_deny_list is not None:\n",
    "      filtered_results = list(\n",
    "          filter(\n",
    "              lambda detection: detection.categories[0].label not in self.\n",
    "              _options.label_deny_list, filtered_results))\n",
    "\n",
    "    # Keep only detections in allow list\n",
    "    if self._options.label_allow_list is not None:\n",
    "      filtered_results = list(\n",
    "          filter(\n",
    "              lambda detection: detection.categories[0].label in self._options.\n",
    "              label_allow_list, filtered_results))\n",
    "\n",
    "    # Only return maximum of max_results detection.\n",
    "    if self._options.max_results > 0:\n",
    "      result_count = min(len(filtered_results), self._options.max_results)\n",
    "      filtered_results = filtered_results[:result_count]\n",
    "\n",
    "    return filtered_results\n",
    "\n",
    "\n",
    "_MARGIN = 10  # pixels\n",
    "_ROW_SIZE = 10  # pixels\n",
    "_FONT_SIZE = 1\n",
    "_FONT_THICKNESS = 1\n",
    "_TEXT_COLOR = (0, 0, 255)  # red\n",
    "\n",
    "\n",
    "def visualize(\n",
    "    image: np.ndarray,\n",
    "    detections: List[Detection],\n",
    ") -> np.ndarray:\n",
    "  \"\"\"Draws bounding boxes on the input image and return it.\n",
    "  Args:\n",
    "    image: The input RGB image.\n",
    "    detections: The list of all \"Detection\" entities to be visualize.\n",
    "  Returns:\n",
    "    Image with bounding boxes.\n",
    "  \"\"\"\n",
    "  for detection in detections:\n",
    "    # Draw bounding_box\n",
    "    start_point = detection.bounding_box.left, detection.bounding_box.top\n",
    "    end_point = detection.bounding_box.right, detection.bounding_box.bottom\n",
    "    #try:\n",
    "    cv2.rectangle(image, start_point, end_point, get_label_color(detection.categories[0].label), 2)\n",
    "    #except:\n",
    "    #  cv2.rectangle(image, start_point, end_point, _TEXT_COLOR, 2)\n",
    "\n",
    "    # Draw label and score\n",
    "    category = detection.categories[0]\n",
    "    class_name = category.label\n",
    "    probability = round(category.score, 2)\n",
    "    result_text = class_name + ' (' + str(probability) + ')'\n",
    "    text_location = (_MARGIN + detection.bounding_box.left,\n",
    "                     _MARGIN + _ROW_SIZE + detection.bounding_box.top)\n",
    "    try:\n",
    "      cv2.putText(image, result_text, text_location, cv2.FONT_HERSHEY_PLAIN,\n",
    "                _FONT_SIZE, get_label_color(detection.categories[0].label), _FONT_THICKNESS)\n",
    "    except:\n",
    "      cv2.putText(image, result_text, text_location, cv2.FONT_HERSHEY_PLAIN,\n",
    "                _FONT_SIZE, _TEXT_COLOR, _FONT_THICKNESS)\n",
    "  return image"
   ]
  },
  {
   "cell_type": "code",
   "execution_count": 4,
   "metadata": {
    "cellView": "form",
    "colab": {
     "base_uri": "https://localhost:8080/",
     "height": 401
    },
    "id": "1t1z2fKlAoB0",
    "outputId": "97e3d3d1-3168-4f6c-a754-ca1e6cf4f4a7"
   },
   "outputs": [
    {
     "name": "stderr",
     "output_type": "stream",
     "text": [
      "/tmp/ipykernel_26182/512087038.py:13: DeprecationWarning: ANTIALIAS is deprecated and will be removed in Pillow 10 (2023-07-01). Use Resampling.LANCZOS instead.\n",
      "  image.thumbnail((512, 512), Image.ANTIALIAS)\n"
     ]
    },
    {
     "ename": "NameError",
     "evalue": "name 'ObjectDetectorOptions' is not defined",
     "output_type": "error",
     "traceback": [
      "\u001b[0;31m---------------------------------------------------------------------------\u001b[0m",
      "\u001b[0;31mNameError\u001b[0m                                 Traceback (most recent call last)",
      "\u001b[1;32m/home/cetibar/Projects/foodrecognition/Model_Maker_Object_Detection_for_Android_Figurine.ipynb Cell 34'\u001b[0m in \u001b[0;36m<cell line: 17>\u001b[0;34m()\u001b[0m\n\u001b[1;32m     <a href='vscode-notebook-cell:/home/cetibar/Projects/foodrecognition/Model_Maker_Object_Detection_for_Android_Figurine.ipynb#ch0000033?line=13'>14</a>\u001b[0m image_np \u001b[39m=\u001b[39m np\u001b[39m.\u001b[39masarray(image)\n\u001b[1;32m     <a href='vscode-notebook-cell:/home/cetibar/Projects/foodrecognition/Model_Maker_Object_Detection_for_Android_Figurine.ipynb#ch0000033?line=15'>16</a>\u001b[0m \u001b[39m# Load the TFLite model\u001b[39;00m\n\u001b[0;32m---> <a href='vscode-notebook-cell:/home/cetibar/Projects/foodrecognition/Model_Maker_Object_Detection_for_Android_Figurine.ipynb#ch0000033?line=16'>17</a>\u001b[0m options \u001b[39m=\u001b[39m ObjectDetectorOptions(\n\u001b[1;32m     <a href='vscode-notebook-cell:/home/cetibar/Projects/foodrecognition/Model_Maker_Object_Detection_for_Android_Figurine.ipynb#ch0000033?line=17'>18</a>\u001b[0m       num_threads\u001b[39m=\u001b[39m\u001b[39m4\u001b[39m,\n\u001b[1;32m     <a href='vscode-notebook-cell:/home/cetibar/Projects/foodrecognition/Model_Maker_Object_Detection_for_Android_Figurine.ipynb#ch0000033?line=18'>19</a>\u001b[0m       score_threshold\u001b[39m=\u001b[39mDETECTION_THRESHOLD,\n\u001b[1;32m     <a href='vscode-notebook-cell:/home/cetibar/Projects/foodrecognition/Model_Maker_Object_Detection_for_Android_Figurine.ipynb#ch0000033?line=19'>20</a>\u001b[0m )\n\u001b[1;32m     <a href='vscode-notebook-cell:/home/cetibar/Projects/foodrecognition/Model_Maker_Object_Detection_for_Android_Figurine.ipynb#ch0000033?line=20'>21</a>\u001b[0m detector \u001b[39m=\u001b[39m ObjectDetector(model_path\u001b[39m=\u001b[39mTFLITE_MODEL_PATH, options\u001b[39m=\u001b[39moptions)\n\u001b[1;32m     <a href='vscode-notebook-cell:/home/cetibar/Projects/foodrecognition/Model_Maker_Object_Detection_for_Android_Figurine.ipynb#ch0000033?line=22'>23</a>\u001b[0m \u001b[39m# Run object detection estimation using the model.\u001b[39;00m\n",
      "\u001b[0;31mNameError\u001b[0m: name 'ObjectDetectorOptions' is not defined"
     ]
    }
   ],
   "source": [
    "#@title Run object detection and show the detection results\n",
    "\n",
    "from PIL import Image\n",
    "\n",
    "INPUT_IMAGE_URL = \"res/ingredients.png\" #@param {type:\"string\"}\n",
    "DETECTION_THRESHOLD = 0.5 #@param {type:\"number\"}\n",
    "TFLITE_MODEL_PATH = \"foodrecognition.tflite\" #@param {type:\"string\"}\n",
    "\n",
    "TEMP_FILE = '/tmp/image.png'\n",
    "\n",
    "#!wget -q -O $TEMP_FILE $INPUT_IMAGE_URL\n",
    "image = Image.open(INPUT_IMAGE_URL).convert('RGB')\n",
    "image.thumbnail((512, 512), Image.ANTIALIAS)\n",
    "image_np = np.asarray(image)\n",
    "\n",
    "# Load the TFLite model\n",
    "options = ObjectDetectorOptions(\n",
    "      num_threads=4,\n",
    "      score_threshold=DETECTION_THRESHOLD,\n",
    ")\n",
    "detector = ObjectDetector(model_path=TFLITE_MODEL_PATH, options=options)\n",
    "\n",
    "# Run object detection estimation using the model.\n",
    "detections = detector.detect(image_np)\n",
    "\n",
    "# Draw keypoints and edges on input image\n",
    "image_np = visualize(image_np, detections)\n",
    "\n",
    "# Show the detection result\n",
    "Image.fromarray(image_np)"
   ]
  },
  {
   "cell_type": "markdown",
   "metadata": {},
   "source": [
    "### Test from video"
   ]
  },
  {
   "cell_type": "code",
   "execution_count": 42,
   "metadata": {},
   "outputs": [
    {
     "name": "stderr",
     "output_type": "stream",
     "text": [
      "INFO:logger:Thread ai_thread: starting\n",
      "INFO:logger:Thread ai_thread: started\n",
      "INFO:logger:stop_threads = False\n",
      "INFO:logger:Loading Image\n",
      "INFO:logger:detections [Detection(bounding_box=Rect(left=83, top=208, right=114, bottom=229), categories=[Category(label='grape', score=0.91015625, index=3)]), Detection(bounding_box=Rect(left=205, top=146, right=233, bottom=173), categories=[Category(label='tomato', score=0.84765625, index=0)]), Detection(bounding_box=Rect(left=352, top=71, right=453, bottom=149), categories=[Category(label='tomato', score=0.41796875, index=0)])]\n",
      "INFO:logger:Loading Image\n",
      "INFO:logger:detections [Detection(bounding_box=Rect(left=205, top=145, right=235, bottom=172), categories=[Category(label='tomato', score=0.8984375, index=0)]), Detection(bounding_box=Rect(left=82, top=208, right=114, bottom=230), categories=[Category(label='grape', score=0.890625, index=3)])]\n",
      "INFO:logger:Loading Image\n",
      "INFO:logger:detections [Detection(bounding_box=Rect(left=205, top=145, right=235, bottom=172), categories=[Category(label='tomato', score=0.8984375, index=0)]), Detection(bounding_box=Rect(left=82, top=208, right=114, bottom=230), categories=[Category(label='grape', score=0.890625, index=3)])]\n",
      "INFO:logger:Loading Image\n",
      "INFO:logger:detections [Detection(bounding_box=Rect(left=204, top=147, right=234, bottom=172), categories=[Category(label='tomato', score=0.93359375, index=0)]), Detection(bounding_box=Rect(left=84, top=209, right=113, bottom=232), categories=[Category(label='grape', score=0.8828125, index=3)])]\n",
      "INFO:logger:Loading Image\n",
      "ERROR:logger:image file is truncated (142 bytes not processed)\n",
      "INFO:logger:detections [Detection(bounding_box=Rect(left=204, top=147, right=234, bottom=172), categories=[Category(label='tomato', score=0.93359375, index=0)]), Detection(bounding_box=Rect(left=84, top=209, right=113, bottom=232), categories=[Category(label='grape', score=0.8828125, index=3)])]\n",
      "INFO:logger:Loading Image\n",
      "INFO:logger:detections [Detection(bounding_box=Rect(left=204, top=147, right=234, bottom=172), categories=[Category(label='tomato', score=0.92578125, index=0)]), Detection(bounding_box=Rect(left=83, top=208, right=113, bottom=233), categories=[Category(label='grape', score=0.81640625, index=3)])]\n",
      "INFO:logger:Loading Image\n",
      "INFO:logger:detections [Detection(bounding_box=Rect(left=82, top=207, right=117, bottom=234), categories=[Category(label='grape', score=0.81640625, index=3)])]\n",
      "INFO:logger:Loading Image\n",
      "INFO:logger:detections [Detection(bounding_box=Rect(left=82, top=207, right=117, bottom=234), categories=[Category(label='grape', score=0.81640625, index=3)])]\n",
      "INFO:logger:Loading Image\n",
      "INFO:logger:detections [Detection(bounding_box=Rect(left=82, top=207, right=117, bottom=234), categories=[Category(label='grape', score=0.81640625, index=3)])]\n",
      "INFO:logger:Loading Image\n",
      "ERROR:logger:cannot identify image file 'res/frame/frame.jpg'\n",
      "ERROR:logger:image file is truncated (20 bytes not processed)\n",
      "INFO:logger:detections [Detection(bounding_box=Rect(left=82, top=207, right=117, bottom=234), categories=[Category(label='grape', score=0.81640625, index=3)])]\n",
      "INFO:logger:detections [Detection(bounding_box=Rect(left=82, top=207, right=117, bottom=234), categories=[Category(label='grape', score=0.81640625, index=3)])]\n",
      "INFO:logger:Loading Image\n",
      "INFO:logger:Loading Image\n",
      "INFO:logger:detections [Detection(bounding_box=Rect(left=191, top=242, right=225, bottom=266), categories=[Category(label='tomato', score=0.890625, index=0)]), Detection(bounding_box=Rect(left=84, top=208, right=112, bottom=232), categories=[Category(label='grape', score=0.859375, index=3)])]\n",
      "INFO:logger:Loading Image\n",
      "INFO:logger:detections [Detection(bounding_box=Rect(left=191, top=241, right=225, bottom=265), categories=[Category(label='tomato', score=0.8984375, index=0)]), Detection(bounding_box=Rect(left=83, top=208, right=112, bottom=232), categories=[Category(label='grape', score=0.84765625, index=3)])]\n",
      "INFO:logger:Loading Image\n",
      "INFO:logger:detections [Detection(bounding_box=Rect(left=191, top=241, right=225, bottom=265), categories=[Category(label='tomato', score=0.8984375, index=0)]), Detection(bounding_box=Rect(left=83, top=208, right=112, bottom=232), categories=[Category(label='grape', score=0.84765625, index=3)])]\n",
      "INFO:logger:Loading Image\n",
      "INFO:logger:detections [Detection(bounding_box=Rect(left=192, top=241, right=224, bottom=266), categories=[Category(label='tomato', score=0.84765625, index=0)]), Detection(bounding_box=Rect(left=382, top=72, right=410, bottom=90), categories=[Category(label='tomato', score=0.33203125, index=0)]), Detection(bounding_box=Rect(left=81, top=210, right=112, bottom=230), categories=[Category(label='grape', score=0.33203125, index=3)])]\n",
      "INFO:logger:Loading Image\n",
      "INFO:logger:detections [Detection(bounding_box=Rect(left=191, top=241, right=225, bottom=266), categories=[Category(label='tomato', score=0.87890625, index=0)]), Detection(bounding_box=Rect(left=83, top=209, right=115, bottom=231), categories=[Category(label='grape', score=0.5234375, index=3)])]\n",
      "INFO:logger:Loading Image\n",
      "ERROR:logger:image file is truncated (176 bytes not processed)\n",
      "INFO:logger:detections [Detection(bounding_box=Rect(left=191, top=241, right=225, bottom=266), categories=[Category(label='tomato', score=0.87890625, index=0)]), Detection(bounding_box=Rect(left=83, top=209, right=115, bottom=231), categories=[Category(label='grape', score=0.5234375, index=3)])]\n",
      "INFO:logger:Loading Image\n",
      "ERROR:logger:image file is truncated (176 bytes not processed)\n",
      "INFO:logger:detections [Detection(bounding_box=Rect(left=191, top=241, right=225, bottom=266), categories=[Category(label='tomato', score=0.87890625, index=0)]), Detection(bounding_box=Rect(left=83, top=209, right=115, bottom=231), categories=[Category(label='grape', score=0.5234375, index=3)])]\n",
      "INFO:logger:Loading Image\n",
      "INFO:logger:detections [Detection(bounding_box=Rect(left=192, top=241, right=225, bottom=265), categories=[Category(label='tomato', score=0.91015625, index=0)]), Detection(bounding_box=Rect(left=83, top=210, right=114, bottom=231), categories=[Category(label='grape', score=0.79296875, index=3)])]\n",
      "INFO:logger:Loading Image\n",
      "INFO:logger:detections [Detection(bounding_box=Rect(left=193, top=241, right=221, bottom=264), categories=[Category(label='tomato', score=0.7421875, index=0)])]\n",
      "INFO:logger:Loading Image\n",
      "INFO:logger:detections [Detection(bounding_box=Rect(left=193, top=241, right=221, bottom=264), categories=[Category(label='tomato', score=0.734375, index=0)])]\n",
      "INFO:logger:Loading Image\n",
      "INFO:logger:detections [Detection(bounding_box=Rect(left=193, top=241, right=221, bottom=264), categories=[Category(label='tomato', score=0.70703125, index=0)])]\n",
      "INFO:logger:Loading Image\n",
      "INFO:logger:detections [Detection(bounding_box=Rect(left=85, top=207, right=114, bottom=231), categories=[Category(label='grape', score=0.80078125, index=3)]), Detection(bounding_box=Rect(left=194, top=240, right=222, bottom=267), categories=[Category(label='tomato', score=0.77734375, index=0)])]\n",
      "INFO:logger:Loading Image\n",
      "INFO:logger:detections [Detection(bounding_box=Rect(left=192, top=242, right=224, bottom=266), categories=[Category(label='tomato', score=0.89453125, index=0)]), Detection(bounding_box=Rect(left=82, top=210, right=113, bottom=232), categories=[Category(label='grape', score=0.75390625, index=3)]), Detection(bounding_box=Rect(left=74, top=214, right=114, bottom=243), categories=[Category(label='grape', score=0.32421875, index=3)])]\n",
      "INFO:logger:Loading Image\n",
      "INFO:logger:detections [Detection(bounding_box=Rect(left=192, top=241, right=223, bottom=267), categories=[Category(label='tomato', score=0.87890625, index=0)]), Detection(bounding_box=Rect(left=82, top=209, right=112, bottom=232), categories=[Category(label='grape', score=0.76953125, index=3)])]\n",
      "INFO:logger:Loading Image\n",
      "INFO:logger:detections [Detection(bounding_box=Rect(left=191, top=241, right=225, bottom=266), categories=[Category(label='tomato', score=0.90625, index=0)]), Detection(bounding_box=Rect(left=85, top=207, right=113, bottom=232), categories=[Category(label='grape', score=0.8359375, index=3)])]\n",
      "INFO:logger:Loading Image\n",
      "INFO:logger:detections [Detection(bounding_box=Rect(left=192, top=241, right=224, bottom=266), categories=[Category(label='tomato', score=0.8984375, index=0)]), Detection(bounding_box=Rect(left=82, top=209, right=112, bottom=232), categories=[Category(label='grape', score=0.5234375, index=3)]), Detection(bounding_box=Rect(left=75, top=213, right=114, bottom=244), categories=[Category(label='grape', score=0.32421875, index=3)])]\n",
      "INFO:logger:Loading Image\n",
      "INFO:logger:detections [Detection(bounding_box=Rect(left=192, top=242, right=224, bottom=266), categories=[Category(label='tomato', score=0.90625, index=0)]), Detection(bounding_box=Rect(left=85, top=206, right=113, bottom=231), categories=[Category(label='grape', score=0.875, index=3)])]\n",
      "INFO:logger:Loading Image\n"
     ]
    }
   ],
   "source": [
    "from PIL import Image\n",
    "import logging\n",
    "import threading\n",
    "import time\n",
    "import sys \n",
    "\n",
    "DETECTION_THRESHOLD = 0.3 #@param {type:\"number\"}\n",
    "TFLITE_MODEL_PATH = \"foodrecognition.tflite\" #@param {type:\"string\"}\n",
    "# Load the TFLite model\n",
    "options = ObjectDetectorOptions(\n",
    "      num_threads=32,\n",
    "      score_threshold=DETECTION_THRESHOLD,\n",
    ")\n",
    "logging.basicConfig(format='%(asctime)s | %(levelname)s : %(message)s',\n",
    "                     level=logging.INFO, stream=sys.stdout)\n",
    "\n",
    "logging.info('Hello world!')\n",
    "logger = logging.getLogger('logger')\n",
    "logger.setLevel(logging.DEBUG)\n",
    "\n",
    "detector = ObjectDetector(model_path=TFLITE_MODEL_PATH, options=options)\n",
    "#@title Run object detection and show the detection results\n",
    "import cv2\n",
    "# Opens the inbuilt camera of laptop to capture video.\n",
    "cap = cv2.VideoCapture(1)\n",
    "i = 0\n",
    "stop_threads = False\n",
    "\n",
    "detections = []\n",
    "\n",
    "def ai_thread(stop_threads, image_dir, detector, logger:logging.Logger):\n",
    "\n",
    "      logger.info(\"Thread %s: started\", \"ai_thread\")\n",
    "      logger.info(\"stop_threads = {}\".format(stop_threads))\n",
    "      global detections\n",
    "      try:\n",
    "            while not stop_threads:\n",
    "                  logger.info(\"Loading Image\")\n",
    "                  try:\n",
    "                        image = Image.open(image_dir).convert('RGB')\n",
    "                        image_np = np.asarray(image)\n",
    "                        detections = detector.detect(image_np)\n",
    "                  except Exception as exception:\n",
    "                        logger.error(exception)\n",
    "                  logger.info(\"detections {}\".format(detections))\n",
    "      except Exception as exception:\n",
    "            logger.error(exception)\n",
    "\n",
    "logger.info(\"Thread %s: starting\", \"ai_thread\")\n",
    "ai_threading = threading.Thread(target=ai_thread, args=( stop_threads,\"res/frame/frame.jpg\", detector, logger), name=\"ai_threading\")\n",
    "ai_threading.start()\n",
    "while(cap.isOpened()):\n",
    "      try:\n",
    "            ret, frame = cap.read()\n",
    "            # This condition prevents from infinite looping\n",
    "            # incase video ends.\n",
    "            if ret == False:\n",
    "                  break\n",
    "            \n",
    "            # Save Frame by Frame into disk using imwrite method\n",
    "            cv2.imwrite('res/frame/frame.jpg',frame)\n",
    "            \n",
    "            \n",
    "            #height, width, layers = frame.shape\n",
    "            #frame = cv2.resize(frame, (int(width/2),int(height/2)), interpolation=cv2.INTER_CUBIC)\n",
    "            image_np = np.asarray(frame)\n",
    "\n",
    "            #if cv2.waitKey(1) & 0xFF == ord('f'):\n",
    "                  # Run object detection estimation using the model.\n",
    "                  # detections = detector.detect(image_np)\n",
    "\n",
    "            # Draw keypoints and edges on input image\n",
    "            image_np = visualize(image_np, detections)\n",
    "\n",
    "            # Display the resulting frame\n",
    "            cv2.imshow('frame', image_np)\n",
    "            # Show the detection result\n",
    "            #Image.fromarray(image_np)\n",
    "      \n",
    "            # the 'q' button is set as the\n",
    "            # quitting button you may use any\n",
    "            # desired button of your choice\n",
    "            if cv2.waitKey(1) & 0xFF == ord('q'):\n",
    "                  break \n",
    "      except: \n",
    "            stop_threads = True      \n",
    "cap.release()\n",
    "stop_threads = True  \n",
    "cv2.destroyAllWindows()\n"
   ]
  },
  {
   "cell_type": "code",
   "execution_count": 40,
   "metadata": {},
   "outputs": [
    {
     "name": "stderr",
     "output_type": "stream",
     "text": [
      "/tmp/ipykernel_5329/1943128962.py:13: DeprecationWarning: ANTIALIAS is deprecated and will be removed in Pillow 10 (2023-07-01). Use Resampling.LANCZOS instead.\n",
      "  image.thumbnail((512, 512), Image.ANTIALIAS)\n",
      "INFO:logger:detections [Detection(bounding_box=Rect(left=175, top=162, right=204, bottom=182), categories=[Category(label='grape', score=0.83984375, index=3)]), Detection(bounding_box=Rect(left=203, top=148, right=236, bottom=170), categories=[Category(label='tomato', score=0.828125, index=0)])]\n",
      "INFO:logger:Loading Image\n",
      "INFO:logger:detections [Detection(bounding_box=Rect(left=175, top=162, right=204, bottom=182), categories=[Category(label='grape', score=0.83984375, index=3)]), Detection(bounding_box=Rect(left=203, top=148, right=236, bottom=170), categories=[Category(label='tomato', score=0.828125, index=0)])]\n",
      "INFO:logger:Loading Image\n",
      "INFO:logger:detections [Detection(bounding_box=Rect(left=175, top=162, right=204, bottom=182), categories=[Category(label='grape', score=0.83984375, index=3)]), Detection(bounding_box=Rect(left=203, top=148, right=236, bottom=170), categories=[Category(label='tomato', score=0.828125, index=0)])]\n",
      "INFO:logger:Loading Image\n"
     ]
    }
   ],
   "source": [
    "\n",
    "from PIL import Image\n",
    "DETECTION_THRESHOLD = 0.5 #@param {type:\"number\"}\n",
    "TFLITE_MODEL_PATH = \"foodrecognition.tflite\" #@param {type:\"string\"}\n",
    "# Load the TFLite model\n",
    "options = ObjectDetectorOptions(\n",
    "      num_threads=4,\n",
    "      score_threshold=DETECTION_THRESHOLD,\n",
    ")\n",
    "detector = ObjectDetector(model_path=TFLITE_MODEL_PATH, options=options)\n",
    "try:\n",
    "      #for line in lines:\n",
    "      image = Image.open('res/train/frame_000000.jpeg').convert('RGB')\n",
    "      image.thumbnail((512, 512), Image.ANTIALIAS)\n",
    "      image_np = np.asarray(image)\n",
    "      # Run object detection estimation using the model.\n",
    "      detections = detector.detect(image_np)\n",
    "\n",
    "      # Draw keypoints and edges on input image\n",
    "      image_np = visualize(image_np, detections)\n",
    "\n",
    "      # Show the detection result\n",
    "      Image.fromarray(image_np)\n",
    "except:\n",
    "      print(\"No files found\")\n"
   ]
  },
  {
   "cell_type": "code",
   "execution_count": 35,
   "metadata": {},
   "outputs": [
    {
     "data": {
      "image/png": "[encoded data removed]",
      "text/plain": [
       "<PIL.Image.Image image mode=RGB size=512x288>"
      ]
     },
     "execution_count": 35,
     "metadata": {},
     "output_type": "execute_result"
    }
   ],
   "source": [
    "Image.fromarray(image_np)"
   ]
  },
  {
   "cell_type": "markdown",
   "metadata": {
    "id": "RWP3fEPaGNvd"
   },
   "source": [
    "## Compile the model for EdgeTPU\n",
    "\n",
    "Finally, we'll compile the model using `edgetpu_compiler` so that the model can run on [Google Coral EdgeTPU](https://coral.ai/).\n",
    "\n",
    "We start with installing the EdgeTPU compiler on Colab."
   ]
  },
  {
   "cell_type": "code",
   "execution_count": null,
   "metadata": {
    "colab": {
     "base_uri": "https://localhost:8080/"
    },
    "id": "kK6AN1xVAsCb",
    "outputId": "0a199dc3-a4df-4b4b-ef2b-b9d88b14cb53"
   },
   "outputs": [
    {
     "name": "stdout",
     "output_type": "stream",
     "text": [
      "  % Total    % Received % Xferd  Average Speed   Time    Time     Time  Current\n",
      "                                 Dload  Upload   Total   Spent    Left  Speed\n",
      "\r\n",
      "  0     0    0     0    0     0      0      0 --:--:-- --:--:-- --:--:--     0\r\n",
      "100  2537  100  2537    0     0  59000      0 --:--:-- --:--:-- --:--:-- 59000\n",
      "OK\n",
      "deb https://packages.cloud.google.com/apt coral-edgetpu-stable main\n",
      "Get:1 http://security.ubuntu.com/ubuntu bionic-security InRelease [88.7 kB]\n",
      "Get:2 https://cloud.r-project.org/bin/linux/ubuntu bionic-cran40/ InRelease [3,626 B]\n",
      "Get:3 http://ppa.launchpad.net/c2d4u.team/c2d4u4.0+/ubuntu bionic InRelease [15.9 kB]\n",
      "Get:4 https://packages.cloud.google.com/apt coral-edgetpu-stable InRelease [6,722 B]\n",
      "Hit:5 http://archive.ubuntu.com/ubuntu bionic InRelease\n",
      "Ign:6 https://developer.download.nvidia.com/compute/cuda/repos/ubuntu1804/x86_64  InRelease\n",
      "Get:7 http://archive.ubuntu.com/ubuntu bionic-updates InRelease [88.7 kB]\n",
      "Get:8 http://security.ubuntu.com/ubuntu bionic-security/main amd64 Packages [2,398 kB]\n",
      "Ign:9 https://developer.download.nvidia.com/compute/machine-learning/repos/ubuntu1804/x86_64  InRelease\n",
      "Get:10 https://developer.download.nvidia.com/compute/cuda/repos/ubuntu1804/x86_64  Release [696 B]\n",
      "Hit:11 https://developer.download.nvidia.com/compute/machine-learning/repos/ubuntu1804/x86_64  Release\n",
      "Get:12 https://developer.download.nvidia.com/compute/cuda/repos/ubuntu1804/x86_64  Release.gpg [836 B]\n",
      "Hit:13 http://ppa.launchpad.net/cran/libgit2/ubuntu bionic InRelease\n",
      "Get:14 https://packages.cloud.google.com/apt coral-edgetpu-stable/main amd64 Packages [2,327 B]\n",
      "Get:15 http://security.ubuntu.com/ubuntu bionic-security/universe amd64 Packages [1,434 kB]\n",
      "Get:16 http://archive.ubuntu.com/ubuntu bionic-backports InRelease [74.6 kB]\n",
      "Hit:17 http://ppa.launchpad.net/deadsnakes/ppa/ubuntu bionic InRelease\n",
      "Get:18 http://ppa.launchpad.net/graphics-drivers/ppa/ubuntu bionic InRelease [21.3 kB]\n",
      "Get:20 https://developer.download.nvidia.com/compute/cuda/repos/ubuntu1804/x86_64  Packages [786 kB]\n",
      "Get:21 http://ppa.launchpad.net/c2d4u.team/c2d4u4.0+/ubuntu bionic/main Sources [1,810 kB]\n",
      "Get:22 http://archive.ubuntu.com/ubuntu bionic-updates/main amd64 Packages [2,835 kB]\n",
      "Get:23 http://archive.ubuntu.com/ubuntu bionic-updates/universe amd64 Packages [2,213 kB]\n",
      "Get:24 http://ppa.launchpad.net/c2d4u.team/c2d4u4.0+/ubuntu bionic/main amd64 Packages [927 kB]\n",
      "Get:25 http://ppa.launchpad.net/graphics-drivers/ppa/ubuntu bionic/main amd64 Packages [44.7 kB]\n",
      "Fetched 12.8 MB in 3s (4,420 kB/s)\n",
      "Reading package lists... Done\n",
      "Reading package lists... Done\n",
      "Building dependency tree       \n",
      "Reading state information... Done\n",
      "The following package was automatically installed and is no longer required:\n",
      "  libnvidia-common-460\n",
      "Use 'sudo apt autoremove' to remove it.\n",
      "The following NEW packages will be installed:\n",
      "  edgetpu-compiler\n",
      "0 upgraded, 1 newly installed, 0 to remove and 61 not upgraded.\n",
      "Need to get 7,913 kB of archives.\n",
      "After this operation, 31.2 MB of additional disk space will be used.\n",
      "Get:1 https://packages.cloud.google.com/apt coral-edgetpu-stable/main amd64 edgetpu-compiler amd64 16.0 [7,913 kB]\n",
      "Fetched 7,913 kB in 0s (20.6 MB/s)\n",
      "debconf: unable to initialize frontend: Dialog\n",
      "debconf: (No usable dialog-like program is installed, so the dialog based frontend cannot be used. at /usr/share/perl5/Debconf/FrontEnd/Dialog.pm line 76, <> line 1.)\n",
      "debconf: falling back to frontend: Readline\n",
      "debconf: unable to initialize frontend: Readline\n",
      "debconf: (This frontend requires a controlling tty.)\n",
      "debconf: falling back to frontend: Teletype\n",
      "dpkg-preconfigure: unable to re-open stdin: \n",
      "Selecting previously unselected package edgetpu-compiler.\n",
      "(Reading database ... 155062 files and directories currently installed.)\n",
      "Preparing to unpack .../edgetpu-compiler_16.0_amd64.deb ...\n",
      "Unpacking edgetpu-compiler (16.0) ...\n",
      "Setting up edgetpu-compiler (16.0) ...\n",
      "Processing triggers for libc-bin (2.27-3ubuntu1.3) ...\n",
      "/sbin/ldconfig.real: /usr/local/lib/python3.7/dist-packages/ideep4py/lib/libmkldnn.so.0 is not a symbolic link\n",
      "\n"
     ]
    }
   ],
   "source": [
    "!curl https://packages.cloud.google.com/apt/doc/apt-key.gpg | sudo apt-key add -\n",
    "!echo \"deb https://packages.cloud.google.com/apt coral-edgetpu-stable main\" | sudo tee /etc/apt/sources.list.d/coral-edgetpu.list\n",
    "!sudo apt-get update\n",
    "!sudo apt-get install edgetpu-compiler"
   ]
  },
  {
   "cell_type": "markdown",
   "metadata": {
    "id": "bIGSdzXkEzrj"
   },
   "source": [
    "**Note:** When training the model using a custom dataset, beware that if your dataset includes more than 20 classes, you'll probably have slower inference speeds compared to if you have fewer classes. This is due to an aspect of the EfficientDet architecture in which a certain layer cannot compile for the Edge TPU when it carries more than 20 classes."
   ]
  },
  {
   "cell_type": "markdown",
   "metadata": {
    "id": "rzF6u0FZTAjF"
   },
   "source": [
    "Before compiling the `.tflite` file for the Edge TPU, it's important to consider whether your model will fit into the Edge TPU memory. \n",
    "\n",
    "The Edge TPU has approximately 8 MB of SRAM for [caching model paramaters](https://coral.ai/docs/edgetpu/compiler/#parameter-data-caching), so any model close to or over 8 MB will not fit onto the Edge TPU memory. That means the inference times are longer, because some model parameters must be fetched from the host system memory.\n",
    "\n",
    "One way to elimiate the extra latency is to use [model pipelining](https://coral.ai/docs/edgetpu/pipeline/), which splits the model into segments that can run on separate Edge TPUs in series. This can significantly reduce the latency for big models.\n",
    "\n",
    "The following table provides recommendations for the number of Edge TPUs to use with each EfficientDet-Lite model.\n",
    "\n",
    "| Model architecture | Minimum TPUs | Recommended TPUs\n",
    "|--------------------|-------|-------|\n",
    "| EfficientDet-Lite0 | 1     | 1     |\n",
    "| EfficientDet-Lite1 | 1     | 1     |\n",
    "| EfficientDet-Lite2 | 1     | 2     |\n",
    "| EfficientDet-Lite3 | 2     | 2     |\n",
    "| EfficientDet-Lite4 | 2     | 3     |\n",
    "\n",
    "If you need extra Edge TPUs for your model, then update `NUMBER_OF_TPUS` here:"
   ]
  },
  {
   "cell_type": "code",
   "execution_count": null,
   "metadata": {
    "colab": {
     "base_uri": "https://localhost:8080/"
    },
    "id": "JyptUjakAwzz",
    "outputId": "7a3dad3b-eeb4-45e1-fb68-f0436ac5a933"
   },
   "outputs": [
    {
     "name": "stdout",
     "output_type": "stream",
     "text": [
      "Edge TPU Compiler version 16.0.384591198\n",
      "Started a compilation timeout timer of 180 seconds.\n",
      "\n",
      "Model compiled successfully in 3127 ms.\n",
      "\n",
      "Input model: android.tflite\n",
      "Input size: 4.22MiB\n",
      "Output model: android_edgetpu.tflite\n",
      "Output size: 5.57MiB\n",
      "On-chip memory used for caching model parameters: 4.21MiB\n",
      "On-chip memory remaining for caching model parameters: 3.29MiB\n",
      "Off-chip memory used for streaming uncached model parameters: 0.00B\n",
      "Number of Edge TPU subgraphs: 1\n",
      "Total number of operations: 267\n",
      "Operation log: android_edgetpu.log\n",
      "\n",
      "Model successfully compiled but not all operations are supported by the Edge TPU. A percentage of the model will instead run on the CPU, which is slower. If possible, consider updating your model to use only operations supported by the Edge TPU. For details, visit g.co/coral/model-reqs.\n",
      "Number of operations that will run on Edge TPU: 264\n",
      "Number of operations that will run on CPU: 3\n",
      "See the operation log file for individual operation details.\n",
      "Compilation child process completed within timeout period.\n",
      "Compilation succeeded! \n"
     ]
    }
   ],
   "source": [
    "NUMBER_OF_TPUS = 1\n",
    "\n",
    "!edgetpu_compiler android.tflite --num_segments=$NUMBER_OF_TPUS"
   ]
  },
  {
   "cell_type": "markdown",
   "metadata": {
    "id": "pJYXucYWTGqZ"
   },
   "source": [
    "Finally, we'll copy the metadata, including the label file, from the original TensorFlow Lite model to the EdgeTPU model."
   ]
  },
  {
   "cell_type": "code",
   "execution_count": null,
   "metadata": {
    "id": "8LY1WrgMJBFd"
   },
   "outputs": [],
   "source": [
    "populator_dst = metadata.MetadataPopulator.with_model_file('android_edgetpu.tflite')\n",
    "\n",
    "with open('android.tflite', 'rb') as f:\n",
    "  populator_dst.load_metadata_and_associated_files(f.read())\n",
    "\n",
    "populator_dst.populate()\n",
    "updated_model_buf = populator_dst.get_model_buffer()"
   ]
  },
  {
   "cell_type": "code",
   "execution_count": null,
   "metadata": {
    "colab": {
     "base_uri": "https://localhost:8080/",
     "height": 17
    },
    "id": "VdRihInCJ3ie",
    "outputId": "f2c37370-6ec3-41e6-903d-22e49e2f7dea"
   },
   "outputs": [
    {
     "data": {
      "application/javascript": "\n    async function download(id, filename, size) {\n      if (!google.colab.kernel.accessAllowed) {\n        return;\n      }\n      const div = document.createElement('div');\n      const label = document.createElement('label');\n      label.textContent = `Downloading \"${filename}\": `;\n      div.appendChild(label);\n      const progress = document.createElement('progress');\n      progress.max = size;\n      div.appendChild(progress);\n      document.body.appendChild(div);\n\n      const buffers = [];\n      let downloaded = 0;\n\n      const channel = await google.colab.kernel.comms.open(id);\n      // Send a message to notify the kernel that we're ready.\n      channel.send({})\n\n      for await (const message of channel.messages) {\n        // Send a message to notify the kernel that we're ready.\n        channel.send({})\n        if (message.buffers) {\n          for (const buffer of message.buffers) {\n            buffers.push(buffer);\n            downloaded += buffer.byteLength;\n            progress.value = downloaded;\n          }\n        }\n      }\n      const blob = new Blob(buffers, {type: 'application/binary'});\n      const a = document.createElement('a');\n      a.href = window.URL.createObjectURL(blob);\n      a.download = filename;\n      div.appendChild(a);\n      a.click();\n      div.remove();\n    }\n  ",
      "text/plain": [
       "<IPython.core.display.Javascript object>"
      ]
     },
     "metadata": {},
     "output_type": "display_data"
    },
    {
     "data": {
      "application/javascript": "download(\"download_f466f03c-e5c8-4a91-a845-258a44b01400\", \"android_edgetpu.tflite\", 5844678)",
      "text/plain": [
       "<IPython.core.display.Javascript object>"
      ]
     },
     "metadata": {},
     "output_type": "display_data"
    }
   ],
   "source": [
    "# Download the TFLite model compiled for EdgeTPU to your local computer.\n",
    "from google.colab import files\n",
    "files.download('android_edgetpu.tflite')"
   ]
  }
 ],
 "metadata": {
  "accelerator": "GPU",
  "colab": {
   "collapsed_sections": [],
   "name": "Model Maker Object Detection for Android Figurine",
   "provenance": []
  },
  "kernelspec": {
   "display_name": "venv38",
   "language": "python",
   "name": "venv38"
  },
  "language_info": {
   "codemirror_mode": {
    "name": "ipython",
    "version": 3
   },
   "file_extension": ".py",
   "mimetype": "text/x-python",
   "name": "python",
   "nbconvert_exporter": "python",
   "pygments_lexer": "ipython3",
   "version": "3.8.13"
  }
 },
 "nbformat": 4,
 "nbformat_minor": 1
}
