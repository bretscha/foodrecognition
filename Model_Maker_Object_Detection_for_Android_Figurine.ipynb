{
 "cells": [
  {
   "cell_type": "markdown",
   "metadata": {
    "id": "PpJEzDG6DK2Q"
   },
   "source": [
    "# Train a custom object detection model with TensorFlow Lite Model Maker\n",
    "\n",
    "In this colab notebook, you'll learn how to use the [TensorFlow Lite Model Maker](https://www.tensorflow.org/lite/guide/model_maker) to train a custom object detection model to detect Android figurines and how to put the model on a Raspberry Pi.\n",
    "\n",
    "The Model Maker library uses *transfer learning* to simplify the process of training a TensorFlow Lite model using a custom dataset. Retraining a TensorFlow Lite model with your own custom dataset reduces the amount of training data required and will shorten the training time.\n"
   ]
  },
  {
   "cell_type": "markdown",
   "metadata": {
    "id": "prQ86DdtD317"
   },
   "source": [
    "Import the required packages."
   ]
  },
  {
   "cell_type": "code",
   "execution_count": 1,
   "metadata": {
    "id": "l4QQTXHHATDS"
   },
   "outputs": [
    {
     "name": "stderr",
     "output_type": "stream",
     "text": [
      "2022-05-03 16:35:13.437614: W tensorflow/stream_executor/platform/default/dso_loader.cc:64] Could not load dynamic library 'libcudart.so.11.0'; dlerror: libcudart.so.11.0: cannot open shared object file: No such file or directory\n",
      "2022-05-03 16:35:13.437656: I tensorflow/stream_executor/cuda/cudart_stub.cc:29] Ignore above cudart dlerror if you do not have a GPU set up on your machine.\n"
     ]
    }
   ],
   "source": [
    "import numpy as np\n",
    "import os\n",
    "from PIL import Image\n",
    "import shutil\n",
    "import zipfile\n",
    "            \n",
    "from pandas import *\n",
    "from tflite_model_maker.config import ExportFormat, QuantizationConfig\n",
    "from tflite_model_maker import model_spec\n",
    "from tflite_model_maker import object_detector\n",
    "\n",
    "from tflite_support import metadata\n",
    "\n",
    "import tensorflow as tf\n",
    "assert tf.__version__.startswith('2')\n",
    "\n",
    "tf.get_logger().setLevel('ERROR')\n",
    "from absl import logging\n",
    "logging.set_verbosity(logging.ERROR)\n",
    "\n",
    "import xml.etree.ElementTree as ET\n",
    "\n",
    "def rename_picture_fileformat_in_annotaion(voc_dataset_dir, annotation, file_format):\n",
    "    tree = ET.parse('{}/Annotations/{}.xml'.format(voc_dataset_dir,annotation))\n",
    "    root = tree.getroot()\n",
    "    filename_node = root.find(\"filename\")\n",
    "    filename_node.text = \"{}.{}\".format(annotation, file_format)\n",
    "    tree.write('{}/Annotations/{}.xml'.format(voc_dataset_dir,annotation))\n",
    "    \n",
    "    \n",
    "def add_pose_to_object_annotation(voc_dataset_dir,annotation):\n",
    "    tree = ET.parse('{}/Annotations/{}.xml'.format(voc_dataset_dir,annotation))\n",
    "    root = tree.getroot()\n",
    "    object_nodes = root.findall(\"object\")\n",
    "    for object_node in object_nodes:\n",
    "        ET.SubElement(object_node, 'pose').text = \"Unspecified\"\n",
    "    tree.write('{}/Annotations/{}.xml'.format(voc_dataset_dir,annotation))\n",
    "    \n",
    "def convert_all_floats_to_ints(voc_dataset_dir, annotation):\n",
    "    tree = ET.parse('{}/Annotations/{}.xml'.format(voc_dataset_dir,annotation))\n",
    "    root = tree.getroot()\n",
    "    bndbox_nodes = root.findall(\"./object/bndbox\")\n",
    "    for bndbox_node in bndbox_nodes:\n",
    "        for child in bndbox_node.getchildren():\n",
    "            child.text = str(int(float(child.text)))\n",
    "    tree.write('{}/Annotations/{}.xml'.format(voc_dataset_dir,annotation))\n",
    "    \n",
    "\n",
    "def order_dataset(destination_dir, voc_dataset_dir):\n",
    "\n",
    "    shutil.rmtree(destination_dir) if os.path.isdir(destination_dir) else None\n",
    "    shutil.rmtree(voc_dataset_dir) if os.path.isdir(voc_dataset_dir) else None\n",
    "    \n",
    "    assert os.path.isfile(\"{}.zip\".format(voc_dataset_dir)), \"There is no dataset named \\\"{}.zip\\\"\".format(voc_dataset_dir) \n",
    "    with zipfile.ZipFile(\"{}.zip\".format(voc_dataset_dir),\"r\") as zip_dataset:\n",
    "        zip_dataset.extractall(voc_dataset_dir)\n",
    "\n",
    "    assert os.path.isdir(voc_dataset_dir), \"The directory to the PVOC dataset \\\"{}\\\" doesnt exist\".format(voc_dataset_dir) \n",
    "\n",
    "    os.makedirs(destination_dir, exist_ok=True)\n",
    "    with open(\"{}/ImageSets/Main/default.txt\".format(voc_dataset_dir)) as file:\n",
    "        lines = [line.rstrip() for line in file]\n",
    "        try:\n",
    "            for line in lines:\n",
    "                # Files might be in PNG File after exporting in CVAT but we need JPEG\n",
    "                if os.path.isfile('{}/JPEGImages/{}.PNG'.format(voc_dataset_dir,line)):\n",
    "                    im1 = Image.open('{}/JPEGImages/{}.PNG'.format(voc_dataset_dir, line))\n",
    "                    im1.save('{}/{}.jpeg'.format(destination_dir, line))\n",
    "                    rename_picture_fileformat_in_annotaion(voc_dataset_dir, line,\"jpeg\")\n",
    "                # IF files are in JPEG just move them\n",
    "                elif os.path.isfile('{}/JPEGImages/{}.jpeg'.format(voc_dataset_dir,line)):\n",
    "                    os.replace('{}/JPEGImages/{}.jpeg'.format(voc_dataset_dir, line),'{}/{}.jpeg'.format(destination_dir, line))\n",
    "                add_pose_to_object_annotation(voc_dataset_dir, line)\n",
    "                convert_all_floats_to_ints(voc_dataset_dir,line)\n",
    "                # Move the Annotation file to the destination_dir\n",
    "                os.replace('{}/Annotations/{}.xml'.format(voc_dataset_dir, line),'{}/{}.xml'.format(destination_dir, line))\n",
    "\n",
    "            # Move the labelmap file to the destination_dir\n",
    "            os.replace('{}/labelmap.txt'.format(voc_dataset_dir),'{}/labelmap.txt'.format(destination_dir))\n",
    "            shutil.rmtree(voc_dataset_dir)\n",
    "        except:\n",
    "            print(\"No files found in {}\".format(voc_dataset_dir))\n",
    "\n",
    "def get_labels() -> list:\n",
    "    data = read_csv(\"res/train/labelmap.txt\",sep=\":\",)\n",
    "    labels = data['# label'].tolist()\n",
    "    try:\n",
    "        labels.remove('background')\n",
    "    except:\n",
    "        print(\"no background variables in labelmap.txt\")\n",
    "    return labels\n",
    "\n",
    "def get_label_color(label, file=\"res/train/labelmap.txt\") -> list:\n",
    "    data = read_csv(file ,sep=\":\",)\n",
    "    index = data.index[data['# label'] == label].to_list()[0]\n",
    "    color_list = data['color_rgb'][index].replace(\"[\",\"\").replace(\"]\",\"\").split(\",\")\n",
    "    color=()\n",
    "    for rgbstring in color_list:\n",
    "        color = color + (int(rgbstring),)\n",
    "    return color\n",
    "\n"
   ]
  },
  {
   "cell_type": "markdown",
   "metadata": {
    "id": "Yxh3KInCFeB-"
   },
   "source": [
    "## Train the object detection model\n",
    "\n",
    "### Step 1: Load the dataset\n",
    "\n",
    "* Images in `res/train` are used to train the custom object detection model.\n",
    "* Images in `res/val` are used to check if the model can generalize well to new images that it hasn't seen before.\n",
    "If there is no train and val dirs, export your datasets from the CVAT server as described in the `README.md` file"
   ]
  },
  {
   "cell_type": "code",
   "execution_count": 2,
   "metadata": {},
   "outputs": [],
   "source": [
    "train_dir = \"res/train\"\n",
    "val_dir = \"res/val\""
   ]
  },
  {
   "cell_type": "markdown",
   "metadata": {},
   "source": [
    "### Order the dataset into train and validation\n",
    "make sure to have exported your dataset with a 'PASCAL VOC' format in CVAT.  \n",
    "\n",
    "\n",
    "| IMPORTANT!!!  The validation and the train datasets HAVE to be exported SEPARATELY!  |\n",
    "|-----------------------------------------|"
   ]
  },
  {
   "cell_type": "code",
   "execution_count": 42,
   "metadata": {},
   "outputs": [
    {
     "name": "stderr",
     "output_type": "stream",
     "text": [
      "/tmp/ipykernel_3352/1311717020.py:23: DeprecationWarning: This method will be removed in future versions.  Use 'list(elem)' or iteration over elem instead.\n",
      "  for child in bndbox_node.getchildren():\n"
     ]
    },
    {
     "name": "stdout",
     "output_type": "stream",
     "text": [
      "No files found in res/train_food_pvoc\n"
     ]
    }
   ],
   "source": [
    "order_dataset(\"res/train\",\"res/train_food_pvoc\")\n",
    "order_dataset(\"res/val\",\"res/val_food_pvoc\")"
   ]
  },
  {
   "cell_type": "code",
   "execution_count": null,
   "metadata": {
    "id": "WiAahdsQAdT7"
   },
   "outputs": [],
   "source": [
    "train_data = object_detector.DataLoader.from_pascal_voc(\n",
    "    'res/train',\n",
    "    'res/train',\n",
    "    get_labels()\n",
    ")\n",
    "\n",
    "val_data = object_detector.DataLoader.from_pascal_voc(\n",
    "    'res/val',\n",
    "    'res/val',\n",
    "    get_labels()\n",
    ")"
   ]
  },
  {
   "cell_type": "markdown",
   "metadata": {
    "id": "UNRhB8N7GHXj"
   },
   "source": [
    "### Step 2: Select a model architecture\n",
    "\n",
    "EfficientDet-Lite[0-4] are a family of mobile/IoT-friendly object detection models derived from the [EfficientDet](https://arxiv.org/abs/1911.09070) architecture.\n",
    "\n",
    "Here is the performance of each EfficientDet-Lite models compared to each others.\n",
    "\n",
    "| Model architecture | Size(MB)* | Latency(ms)** | Average Precision*** |\n",
    "|--------------------|-----------|---------------|----------------------|\n",
    "| EfficientDet-Lite0 | 4.4       | 146           | 25.69%               |\n",
    "| EfficientDet-Lite1 | 5.8       | 259           | 30.55%               |\n",
    "| EfficientDet-Lite2 | 7.2       | 396           | 33.97%               |\n",
    "| EfficientDet-Lite3 | 11.4      | 716           | 37.70%               |\n",
    "| EfficientDet-Lite4 | 19.9      | 1886          | 41.96%               |\n",
    "\n",
    "<i> * Size of the integer quantized models. <br/>\n",
    "** Latency measured on Raspberry Pi 4 using 4 threads on CPU. <br/>\n",
    "*** Average Precision is the mAP (mean Average Precision) on the COCO 2017 validation dataset.\n",
    "</i>\n",
    "\n",
    "In this notebook, we use EfficientDet-Lite0 to train our model. You can choose other model architectures depending on whether speed or accuracy is more important to you."
   ]
  },
  {
   "cell_type": "code",
   "execution_count": 10,
   "metadata": {
    "id": "GZOojrDHAY1J"
   },
   "outputs": [
    {
     "data": {
      "application/vnd.jupyter.widget-view+json": {
       "model_id": "2c0ceac7d1084f468cbd72338dc4280e",
       "version_major": 2,
       "version_minor": 0
      },
      "text/plain": [
       "Dropdown(description='Model', index=4, options=('efficientdet_lite0', 'efficientdet_lite1', 'efficientdet_lite…"
      ]
     },
     "metadata": {},
     "output_type": "display_data"
    }
   ],
   "source": [
    "import ipywidgets as widgets\n",
    "from IPython.display import display\n",
    "\n",
    "model_selector = widgets.Dropdown(\n",
    "    options=['efficientdet_lite0', 'efficientdet_lite1', 'efficientdet_lite2', 'efficientdet_lite3', 'efficientdet_lite4'],\n",
    "    value= 'efficientdet_lite4',\n",
    "    description='Model',\n",
    "    disabled=False,\n",
    ")\n",
    "display(model_selector)\n"
   ]
  },
  {
   "cell_type": "code",
   "execution_count": 8,
   "metadata": {},
   "outputs": [],
   "source": [
    "spec = model_spec.get(model_selector.value)"
   ]
  },
  {
   "cell_type": "markdown",
   "metadata": {
    "id": "5aeDU4mIM4ft"
   },
   "source": [
    "### Step 3: Train the TensorFlow model with the training data.\n",
    "\n",
    "* Set `epochs = 20`, which means it will go through the training dataset 20 times. You can look at the validation accuracy during training and stop when you see validation loss (`val_loss`) stop decreasing to avoid overfitting.\n",
    "* Set `batch_size = 4` here so you will see that it takes 15 steps to go through the 62 images in the training dataset.\n",
    "* Set `train_whole_model=True` to fine-tune the whole model instead of just training the head layer to improve accuracy. The trade-off is that it may take longer to train the model."
   ]
  },
  {
   "cell_type": "code",
   "execution_count": null,
   "metadata": {
    "colab": {
     "base_uri": "https://localhost:8080/"
    },
    "id": "_MClfpsJAfda",
    "outputId": "cbfc9772-a3c7-4f60-a7af-a6032de27d2f"
   },
   "outputs": [],
   "source": [
    "model = object_detector.create(train_data, model_spec=spec, batch_size=4, train_whole_model=True, epochs=20, validation_data=val_data)"
   ]
  },
  {
   "cell_type": "markdown",
   "metadata": {
    "id": "KB4hKeerMmh4"
   },
   "source": [
    "### Step 4. Evaluate the model with the validation data.\n",
    "\n",
    "After training the object detection model using the images in the training dataset, use the 10 images in the validation dataset to evaluate how the model performs against new data it has never seen before.\n",
    "\n",
    "As the default batch size is 64, it will take 1 step to go through the 10 images in the validation dataset.\n",
    "\n",
    "The evaluation metrics are same as [COCO](https://cocodataset.org/#detection-eval)."
   ]
  },
  {
   "cell_type": "code",
   "execution_count": null,
   "metadata": {
    "colab": {
     "base_uri": "https://localhost:8080/"
    },
    "id": "OUqEpcYwAg8L",
    "outputId": "b359dc94-4906-4b5b-e022-77030b7a122f"
   },
   "outputs": [],
   "source": [
    "model.evaluate(val_data)"
   ]
  },
  {
   "cell_type": "markdown",
   "metadata": {
    "id": "NARVYk9rGLIl"
   },
   "source": [
    "### Step 5: Export as a TensorFlow Lite model.\n",
    "\n",
    "Export the trained object detection model to the TensorFlow Lite format by specifying which folder you want to export the quantized model to. The default post-training quantization technique is [full integer quantization](https://www.tensorflow.org/lite/performance/post_training_integer_quant). This allows the TensorFlow Lite model to be smaller, run faster on Raspberry Pi CPU and also compatible with the Google Coral EdgeTPU."
   ]
  },
  {
   "cell_type": "code",
   "execution_count": null,
   "metadata": {
    "id": "_u3eFxoBAiqE"
   },
   "outputs": [],
   "source": [
    "model.export(export_dir='.', tflite_filename='foodrecognition.tflite')"
   ]
  },
  {
   "cell_type": "markdown",
   "metadata": {
    "id": "JZcBmEigOCO3"
   },
   "source": [
    "### Step 6:  Evaluate the TensorFlow Lite model.\n",
    "\n",
    "Several factors can affect the model accuracy when exporting to TFLite:\n",
    "* [Quantization](https://www.tensorflow.org/lite/performance/model_optimization) helps shrinking the model size by 4 times at the expense of some accuracy drop.\n",
    "* The original TensorFlow model uses per-class [non-max supression (NMS)](https://www.coursera.org/lecture/convolutional-neural-networks/non-max-suppression-dvrjH) for post-processing, while the TFLite model uses global NMS that's much faster but less accurate.\n",
    "Keras outputs maximum 100 detections while tflite outputs maximum 25 detections.\n",
    "\n",
    "Therefore you'll have to evaluate the exported TFLite model and compare its accuracy with the original TensorFlow model."
   ]
  },
  {
   "cell_type": "code",
   "execution_count": null,
   "metadata": {
    "colab": {
     "base_uri": "https://localhost:8080/"
    },
    "id": "Jbl8z9_wBPlr",
    "outputId": "a0893077-28d8-4362-89f2-d5197222ac79"
   },
   "outputs": [],
   "source": [
    "model.evaluate_tflite('foodrecognition.tflite', val_data)"
   ]
  },
  {
   "cell_type": "markdown",
   "metadata": {
    "id": "wnqktl45PZRy"
   },
   "source": [
    "## Test the Detection model\n",
    "\n",
    "After training the model, let's test it with an image that the model hasn't seen before to get a sense of how good the model is."
   ]
  },
  {
   "cell_type": "code",
   "execution_count": 11,
   "metadata": {
    "cellView": "form",
    "id": "9ZsLQtJ1AlW_"
   },
   "outputs": [],
   "source": [
    "#@title Load the trained TFLite model and define some visualization functions\n",
    "\n",
    "#@markdown This code comes from the TFLite Object Detection [Raspberry Pi sample](https://github.com/tensorflow/examples/tree/master/lite/examples/object_detection/raspberry_pi).\n",
    "\n",
    "import platform\n",
    "from typing import List, NamedTuple\n",
    "import json\n",
    "\n",
    "import cv2\n",
    "\n",
    "Interpreter = tf.lite.Interpreter\n",
    "load_delegate = tf.lite.experimental.load_delegate\n",
    "\n",
    "# pylint: enable=g-import-not-at-top\n",
    "\n",
    "\n",
    "class ObjectDetectorOptions(NamedTuple):\n",
    "  \"\"\"A config to initialize an object detector.\"\"\"\n",
    "\n",
    "  enable_edgetpu: bool = False\n",
    "  \"\"\"Enable the model to run on EdgeTPU.\"\"\"\n",
    "\n",
    "  label_allow_list: List[str] = None\n",
    "  \"\"\"The optional allow list of labels.\"\"\"\n",
    "\n",
    "  label_deny_list: List[str] = None\n",
    "  \"\"\"The optional deny list of labels.\"\"\"\n",
    "\n",
    "  max_results: int = -1\n",
    "  \"\"\"The maximum number of top-scored detection results to return.\"\"\"\n",
    "\n",
    "  num_threads: int = 1\n",
    "  \"\"\"The number of CPU threads to be used.\"\"\"\n",
    "\n",
    "  score_threshold: float = 0.0\n",
    "  \"\"\"The score threshold of detection results to return.\"\"\"\n",
    "\n",
    "\n",
    "class Rect(NamedTuple):\n",
    "  \"\"\"A rectangle in 2D space.\"\"\"\n",
    "  left: float\n",
    "  top: float\n",
    "  right: float\n",
    "  bottom: float\n",
    "\n",
    "\n",
    "class Category(NamedTuple):\n",
    "  \"\"\"A result of a classification task.\"\"\"\n",
    "  label: str\n",
    "  score: float\n",
    "  index: int\n",
    "\n",
    "\n",
    "class Detection(NamedTuple):\n",
    "  \"\"\"A detected object as the result of an ObjectDetector.\"\"\"\n",
    "  bounding_box: Rect\n",
    "  categories: List[Category]\n",
    "\n",
    "\n",
    "def edgetpu_lib_name():\n",
    "  \"\"\"Returns the library name of EdgeTPU in the current platform.\"\"\"\n",
    "  return {\n",
    "      'Darwin': 'libedgetpu.1.dylib',\n",
    "      'Linux': 'libedgetpu.so.1',\n",
    "      'Windows': 'edgetpu.dll',\n",
    "  }.get(platform.system(), None)\n",
    "\n",
    "\n",
    "class ObjectDetector:\n",
    "  \"\"\"A wrapper class for a TFLite object detection model.\"\"\"\n",
    "\n",
    "  _OUTPUT_LOCATION_NAME = 'location'\n",
    "  _OUTPUT_CATEGORY_NAME = 'category'\n",
    "  _OUTPUT_SCORE_NAME = 'score'\n",
    "  _OUTPUT_NUMBER_NAME = 'number of detections'\n",
    "\n",
    "  def __init__(\n",
    "      self,\n",
    "      model_path: str,\n",
    "      options: ObjectDetectorOptions = ObjectDetectorOptions()\n",
    "  ) -> None:\n",
    "    \"\"\"Initialize a TFLite object detection model.\n",
    "    Args:\n",
    "        model_path: Path to the TFLite model.\n",
    "        options: The config to initialize an object detector. (Optional)\n",
    "    Raises:\n",
    "        ValueError: If the TFLite model is invalid.\n",
    "        OSError: If the current OS isn't supported by EdgeTPU.\n",
    "    \"\"\"\n",
    "\n",
    "    # Load metadata from model.\n",
    "    displayer = metadata.MetadataDisplayer.with_model_file(model_path)\n",
    "\n",
    "    # Save model metadata for preprocessing later.\n",
    "    model_metadata = json.loads(displayer.get_metadata_json())\n",
    "    process_units = model_metadata['subgraph_metadata'][0]['input_tensor_metadata'][0]['process_units']\n",
    "    mean = 0.0\n",
    "    std = 1.0\n",
    "    for option in process_units:\n",
    "      if option['options_type'] == 'NormalizationOptions':\n",
    "        mean = option['options']['mean'][0]\n",
    "        std = option['options']['std'][0]\n",
    "    self._mean = mean\n",
    "    self._std = std\n",
    "\n",
    "    # Load label list from metadata.\n",
    "    file_name = displayer.get_packed_associated_file_list()[0]\n",
    "    label_map_file = displayer.get_associated_file_buffer(file_name).decode()\n",
    "    label_list = list(filter(lambda x: len(x) > 0, label_map_file.splitlines()))\n",
    "    self._label_list = label_list\n",
    "\n",
    "    # Initialize TFLite model.\n",
    "    if options.enable_edgetpu:\n",
    "      if edgetpu_lib_name() is None:\n",
    "        raise OSError(\"The current OS isn't supported by Coral EdgeTPU.\")\n",
    "      interpreter = Interpreter(\n",
    "          model_path=model_path,\n",
    "          experimental_delegates=[load_delegate(edgetpu_lib_name())],\n",
    "          num_threads=options.num_threads)\n",
    "    else:\n",
    "      interpreter = Interpreter(\n",
    "          model_path=model_path, num_threads=options.num_threads)\n",
    "\n",
    "    interpreter.allocate_tensors()\n",
    "    input_detail = interpreter.get_input_details()[0]\n",
    "\n",
    "    # From TensorFlow 2.6, the order of the outputs become undefined.\n",
    "    # Therefore we need to sort the tensor indices of TFLite outputs and to know\n",
    "    # exactly the meaning of each output tensor. For example, if\n",
    "    # output indices are [601, 599, 598, 600], tensor names and indices aligned\n",
    "    # are:\n",
    "    #   - location: 598\n",
    "    #   - category: 599\n",
    "    #   - score: 600\n",
    "    #   - detection_count: 601\n",
    "    # because of the op's ports of TFLITE_DETECTION_POST_PROCESS\n",
    "    # (https://github.com/tensorflow/tensorflow/blob/a4fe268ea084e7d323133ed7b986e0ae259a2bc7/tensorflow/lite/kernels/detection_postprocess.cc#L47-L50).\n",
    "    sorted_output_indices = sorted(\n",
    "        [output['index'] for output in interpreter.get_output_details()])\n",
    "    self._output_indices = {\n",
    "        self._OUTPUT_LOCATION_NAME: sorted_output_indices[0],\n",
    "        self._OUTPUT_CATEGORY_NAME: sorted_output_indices[1],\n",
    "        self._OUTPUT_SCORE_NAME: sorted_output_indices[2],\n",
    "        self._OUTPUT_NUMBER_NAME: sorted_output_indices[3],\n",
    "    }\n",
    "\n",
    "    self._input_size = input_detail['shape'][2], input_detail['shape'][1]\n",
    "    self._is_quantized_input = input_detail['dtype'] == np.uint8\n",
    "    self._interpreter = interpreter\n",
    "    self._options = options\n",
    "\n",
    "  def detect(self, input_image: np.ndarray) -> List[Detection]:\n",
    "    \"\"\"Run detection on an input image.\n",
    "    Args:\n",
    "        input_image: A [height, width, 3] RGB image. Note that height and width\n",
    "          can be anything since the image will be immediately resized according\n",
    "          to the needs of the model within this function.\n",
    "    Returns:\n",
    "        A Person instance.\n",
    "    \"\"\"\n",
    "    image_height, image_width, _ = input_image.shape\n",
    "\n",
    "    input_tensor = self._preprocess(input_image)\n",
    "\n",
    "    self._set_input_tensor(input_tensor)\n",
    "    self._interpreter.invoke()\n",
    "\n",
    "    # Get all output details\n",
    "    boxes = self._get_output_tensor(self._OUTPUT_LOCATION_NAME)\n",
    "    classes = self._get_output_tensor(self._OUTPUT_CATEGORY_NAME)\n",
    "    scores = self._get_output_tensor(self._OUTPUT_SCORE_NAME)\n",
    "    count = int(self._get_output_tensor(self._OUTPUT_NUMBER_NAME))\n",
    "\n",
    "    return self._postprocess(boxes, classes, scores, count, image_width,\n",
    "                             image_height)\n",
    "\n",
    "  def _preprocess(self, input_image: np.ndarray) -> np.ndarray:\n",
    "    \"\"\"Preprocess the input image as required by the TFLite model.\"\"\"\n",
    "\n",
    "    # Resize the input\n",
    "    input_tensor = cv2.resize(input_image, self._input_size)\n",
    "\n",
    "    # Normalize the input if it's a float model (aka. not quantized)\n",
    "    if not self._is_quantized_input:\n",
    "      input_tensor = (np.float32(input_tensor) - self._mean) / self._std\n",
    "\n",
    "    # Add batch dimension\n",
    "    input_tensor = np.expand_dims(input_tensor, axis=0)\n",
    "\n",
    "    return input_tensor\n",
    "\n",
    "  def _set_input_tensor(self, image):\n",
    "    \"\"\"Sets the input tensor.\"\"\"\n",
    "    tensor_index = self._interpreter.get_input_details()[0]['index']\n",
    "    input_tensor = self._interpreter.tensor(tensor_index)()[0]\n",
    "    input_tensor[:, :] = image\n",
    "\n",
    "  def _get_output_tensor(self, name):\n",
    "    \"\"\"Returns the output tensor at the given index.\"\"\"\n",
    "    output_index = self._output_indices[name]\n",
    "    tensor = np.squeeze(self._interpreter.get_tensor(output_index))\n",
    "    return tensor\n",
    "\n",
    "  def _postprocess(self, boxes: np.ndarray, classes: np.ndarray,\n",
    "                   scores: np.ndarray, count: int, image_width: int,\n",
    "                   image_height: int) -> List[Detection]:\n",
    "    \"\"\"Post-process the output of TFLite model into a list of Detection objects.\n",
    "    Args:\n",
    "        boxes: Bounding boxes of detected objects from the TFLite model.\n",
    "        classes: Class index of the detected objects from the TFLite model.\n",
    "        scores: Confidence scores of the detected objects from the TFLite model.\n",
    "        count: Number of detected objects from the TFLite model.\n",
    "        image_width: Width of the input image.\n",
    "        image_height: Height of the input image.\n",
    "    Returns:\n",
    "        A list of Detection objects detected by the TFLite model.\n",
    "    \"\"\"\n",
    "    results = []\n",
    "\n",
    "    # Parse the model output into a list of Detection entities.\n",
    "    for i in range(count):\n",
    "      if scores[i] >= self._options.score_threshold:\n",
    "        y_min, x_min, y_max, x_max = boxes[i]\n",
    "        bounding_box = Rect(\n",
    "            top=int(y_min * image_height),\n",
    "            left=int(x_min * image_width),\n",
    "            bottom=int(y_max * image_height),\n",
    "            right=int(x_max * image_width))\n",
    "        class_id = int(classes[i])\n",
    "        category = Category(\n",
    "            score=scores[i],\n",
    "            label=self._label_list[class_id],  # 0 is reserved for background\n",
    "            index=class_id)\n",
    "        result = Detection(bounding_box=bounding_box, categories=[category])\n",
    "        results.append(result)\n",
    "\n",
    "    # Sort detection results by score ascending\n",
    "    sorted_results = sorted(\n",
    "        results,\n",
    "        key=lambda detection: detection.categories[0].score,\n",
    "        reverse=True)\n",
    "\n",
    "    # Filter out detections in deny list\n",
    "    filtered_results = sorted_results\n",
    "    if self._options.label_deny_list is not None:\n",
    "      filtered_results = list(\n",
    "          filter(\n",
    "              lambda detection: detection.categories[0].label not in self.\n",
    "              _options.label_deny_list, filtered_results))\n",
    "\n",
    "    # Keep only detections in allow list\n",
    "    if self._options.label_allow_list is not None:\n",
    "      filtered_results = list(\n",
    "          filter(\n",
    "              lambda detection: detection.categories[0].label in self._options.\n",
    "              label_allow_list, filtered_results))\n",
    "\n",
    "    # Only return maximum of max_results detection.\n",
    "    if self._options.max_results > 0:\n",
    "      result_count = min(len(filtered_results), self._options.max_results)\n",
    "      filtered_results = filtered_results[:result_count]\n",
    "\n",
    "    return filtered_results\n",
    "\n",
    "\n",
    "_MARGIN = 10  # pixels\n",
    "_ROW_SIZE = 10  # pixels\n",
    "_FONT_SIZE = 1\n",
    "_FONT_THICKNESS = 1\n",
    "_TEXT_COLOR = (0, 0, 255)  # red\n",
    "\n",
    "\n",
    "def visualize(\n",
    "    image: np.ndarray,\n",
    "    detections: List[Detection],\n",
    ") -> np.ndarray:\n",
    "  \"\"\"Draws bounding boxes on the input image and return it.\n",
    "  Args:\n",
    "    image: The input RGB image.\n",
    "    detections: The list of all \"Detection\" entities to be visualize.\n",
    "  Returns:\n",
    "    Image with bounding boxes.\n",
    "  \"\"\"\n",
    "  for detection in detections:\n",
    "    # Draw bounding_box\n",
    "    start_point = detection.bounding_box.left, detection.bounding_box.top\n",
    "    end_point = detection.bounding_box.right, detection.bounding_box.bottom\n",
    "    #try:\n",
    "    cv2.rectangle(image, start_point, end_point, get_label_color(detection.categories[0].label), 2)\n",
    "    #except:\n",
    "    #  cv2.rectangle(image, start_point, end_point, _TEXT_COLOR, 2)\n",
    "\n",
    "    # Draw label and score\n",
    "    category = detection.categories[0]\n",
    "    class_name = category.label\n",
    "    probability = round(category.score, 2)\n",
    "\n",
    "    result_text = class_name + ' (' + str(probability) + ')'\n",
    "    text_location = (_MARGIN + detection.bounding_box.left,\n",
    "                     _MARGIN + _ROW_SIZE + detection.bounding_box.top)\n",
    "    try:\n",
    "      cv2.putText(image, result_text, text_location, cv2.FONT_HERSHEY_PLAIN,\n",
    "                _FONT_SIZE, get_label_color(detection.categories[0].label), _FONT_THICKNESS)\n",
    "    except:\n",
    "      cv2.putText(image, result_text, text_location, cv2.FONT_HERSHEY_PLAIN,\n",
    "                _FONT_SIZE, _TEXT_COLOR, _FONT_THICKNESS)\n",
    "  return image"
   ]
  },
  {
   "cell_type": "code",
   "execution_count": null,
   "metadata": {
    "cellView": "form",
    "colab": {
     "base_uri": "https://localhost:8080/",
     "height": 401
    },
    "id": "1t1z2fKlAoB0",
    "outputId": "97e3d3d1-3168-4f6c-a754-ca1e6cf4f4a7"
   },
   "outputs": [],
   "source": [
    "#@title Run object detection and show the detection results\n",
    "\n",
    "from PIL import Image\n",
    "\n",
    "INPUT_IMAGE_URL = \"res/ingredients.png\" #@param {type:\"string\"}\n",
    "DETECTION_THRESHOLD = 0.5 #@param {type:\"number\"}\n",
    "TFLITE_MODEL_PATH = \"foodrecognition.tflite\" #@param {type:\"string\"}\n",
    "\n",
    "TEMP_FILE = '/tmp/image.png'\n",
    "\n",
    "#!wget -q -O $TEMP_FILE $INPUT_IMAGE_URL\n",
    "image = Image.open(INPUT_IMAGE_URL).convert('RGB')\n",
    "image.thumbnail((512, 512), Image.ANTIALIAS)\n",
    "image_np = np.asarray(image)\n",
    "\n",
    "# Load the TFLite model\n",
    "options = ObjectDetectorOptions(\n",
    "      num_threads=4,\n",
    "      score_threshold=DETECTION_THRESHOLD,\n",
    ")\n",
    "detector = ObjectDetector(model_path=TFLITE_MODEL_PATH, options=options)\n",
    "\n",
    "# Run object detection estimation using the model.\n",
    "detections = detector.detect(image_np)\n",
    "\n",
    "# Draw keypoints and edges on input image\n",
    "image_np = visualize(image_np, detections)\n",
    "\n",
    "# Show the detection result\n",
    "Image.fromarray(image_np)"
   ]
  },
  {
   "cell_type": "markdown",
   "metadata": {},
   "source": [
    "### Test from video"
   ]
  },
  {
   "cell_type": "code",
   "execution_count": null,
   "metadata": {},
   "outputs": [],
   "source": [
    "from PIL import Image\n",
    "import logging\n",
    "import threading\n",
    "import time\n",
    "import sys \n",
    "\n",
    "DETECTION_THRESHOLD = 0.3 #@param {type:\"number\"}\n",
    "TFLITE_MODEL_PATH = \"foodrecognition.tflite\" #@param {type:\"string\"}\n",
    "# Load the TFLite model\n",
    "options = ObjectDetectorOptions(\n",
    "      num_threads=32,\n",
    "      score_threshold=DETECTION_THRESHOLD,\n",
    ")\n",
    "logging.basicConfig(format='%(asctime)s | %(levelname)s : %(message)s',\n",
    "                     level=logging.INFO, stream=sys.stdout)\n",
    "\n",
    "logging.info('Hello world!')\n",
    "logger = logging.getLogger('logger')\n",
    "logger.setLevel(logging.DEBUG)\n",
    "\n",
    "detector = ObjectDetector(model_path=TFLITE_MODEL_PATH, options=options)\n",
    "#@title Run object detection and show the detection results\n",
    "import cv2\n",
    "# Opens the inbuilt camera of laptop to capture video.\n",
    "cap = cv2.VideoCapture(1)\n",
    "i = 0\n",
    "stop_threads = False\n",
    "\n",
    "detections = []\n",
    "\n",
    "def ai_thread(stop_threads, image_dir, detector, logger:logging.Logger):\n",
    "\n",
    "      logger.info(\"Thread %s: started\", \"ai_thread\")\n",
    "      logger.info(\"stop_threads = {}\".format(stop_threads))\n",
    "      global detections\n",
    "      try:\n",
    "            while not stop_threads:\n",
    "                  logger.info(\"Loading Image\")\n",
    "                  try:\n",
    "                        image = Image.open(image_dir).convert('RGB')\n",
    "                        image_np = np.asarray(image)\n",
    "                        detections = detector.detect(image_np)\n",
    "                  except Exception as exception:\n",
    "                        logger.error(exception)\n",
    "                  logger.info(\"detections {}\".format(detections))\n",
    "      except Exception as exception:\n",
    "            logger.error(exception)\n",
    "\n",
    "logger.info(\"Thread %s: starting\", \"ai_thread\")\n",
    "ai_threading = threading.Thread(target=ai_thread, args=( stop_threads,\"res/frame/frame.jpg\", detector, logger), name=\"ai_threading\")\n",
    "ai_threading.start()\n",
    "while(cap.isOpened()):\n",
    "      try:\n",
    "            ret, frame = cap.read()\n",
    "            # This condition prevents from infinite looping\n",
    "            # incase video ends.\n",
    "            if ret == False:\n",
    "                  break\n",
    "            \n",
    "            # Save Frame by Frame into disk using imwrite method\n",
    "            cv2.imwrite('res/frame/frame.jpg',frame)\n",
    "            \n",
    "            \n",
    "            #height, width, layers = frame.shape\n",
    "            #frame = cv2.resize(frame, (int(width/2),int(height/2)), interpolation=cv2.INTER_CUBIC)\n",
    "            image_np = np.asarray(frame)\n",
    "\n",
    "            #if cv2.waitKey(1) & 0xFF == ord('f'):\n",
    "                  # Run object detection estimation using the model.\n",
    "                  # detections = detector.detect(image_np)\n",
    "\n",
    "            # Draw keypoints and edges on input image\n",
    "            image_np = visualize(image_np, detections)\n",
    "\n",
    "            # Display the resulting frame\n",
    "            cv2.imshow('frame', image_np)\n",
    "            # Show the detection result\n",
    "            #Image.fromarray(image_np)\n",
    "      \n",
    "            # the 'q' button is set as the\n",
    "            # quitting button you may use any\n",
    "            # desired button of your choice\n",
    "            if cv2.waitKey(1) & 0xFF == ord('q'):\n",
    "                  break \n",
    "      except: \n",
    "            stop_threads = True      \n",
    "cap.release()\n",
    "stop_threads = True  \n",
    "cv2.destroyAllWindows()\n"
   ]
  },
  {
   "cell_type": "code",
   "execution_count": null,
   "metadata": {},
   "outputs": [],
   "source": [
    "\n",
    "from PIL import Image\n",
    "DETECTION_THRESHOLD = 0.5 #@param {type:\"number\"}\n",
    "TFLITE_MODEL_PATH = \"foodrecognition.tflite\" #@param {type:\"string\"}\n",
    "# Load the TFLite model\n",
    "options = ObjectDetectorOptions(\n",
    "      num_threads=4,\n",
    "      score_threshold=DETECTION_THRESHOLD,\n",
    ")\n",
    "detector = ObjectDetector(model_path=TFLITE_MODEL_PATH, options=options)\n",
    "try:\n",
    "      #for line in lines:\n",
    "      image = Image.open('res/train/frame_000000.jpeg').convert('RGB')\n",
    "      image.thumbnail((512, 512), Image.ANTIALIAS)\n",
    "      image_np = np.asarray(image)\n",
    "      # Run object detection estimation using the model.\n",
    "      detections = detector.detect(image_np)\n",
    "\n",
    "      # Draw keypoints and edges on input image\n",
    "      image_np = visualize(image_np, detections)\n",
    "\n",
    "      # Show the detection result\n",
    "      Image.fromarray(image_np)\n",
    "except:\n",
    "      print(\"No files found\")\n"
   ]
  },
  {
   "cell_type": "code",
   "execution_count": null,
   "metadata": {},
   "outputs": [],
   "source": [
    "Image.fromarray(image_np)"
   ]
  },
  {
   "cell_type": "markdown",
   "metadata": {
    "id": "RWP3fEPaGNvd"
   },
   "source": [
    "## Compile the model for EdgeTPU\n",
    "\n",
    "Finally, we'll compile the model using `edgetpu_compiler` so that the model can run on [Google Coral EdgeTPU](https://coral.ai/).\n",
    "\n",
    "We start with installing the EdgeTPU compiler on Colab."
   ]
  },
  {
   "cell_type": "code",
   "execution_count": null,
   "metadata": {
    "colab": {
     "base_uri": "https://localhost:8080/"
    },
    "id": "kK6AN1xVAsCb",
    "outputId": "0a199dc3-a4df-4b4b-ef2b-b9d88b14cb53"
   },
   "outputs": [],
   "source": [
    "!curl https://packages.cloud.google.com/apt/doc/apt-key.gpg | sudo apt-key add -\n",
    "!echo \"deb https://packages.cloud.google.com/apt coral-edgetpu-stable main\" | sudo tee /etc/apt/sources.list.d/coral-edgetpu.list\n",
    "!sudo apt-get update\n",
    "!sudo apt-get install edgetpu-compiler"
   ]
  },
  {
   "cell_type": "markdown",
   "metadata": {
    "id": "bIGSdzXkEzrj"
   },
   "source": [
    "**Note:** When training the model using a custom dataset, beware that if your dataset includes more than 20 classes, you'll probably have slower inference speeds compared to if you have fewer classes. This is due to an aspect of the EfficientDet architecture in which a certain layer cannot compile for the Edge TPU when it carries more than 20 classes."
   ]
  },
  {
   "cell_type": "markdown",
   "metadata": {
    "id": "rzF6u0FZTAjF"
   },
   "source": [
    "Before compiling the `.tflite` file for the Edge TPU, it's important to consider whether your model will fit into the Edge TPU memory. \n",
    "\n",
    "The Edge TPU has approximately 8 MB of SRAM for [caching model paramaters](https://coral.ai/docs/edgetpu/compiler/#parameter-data-caching), so any model close to or over 8 MB will not fit onto the Edge TPU memory. That means the inference times are longer, because some model parameters must be fetched from the host system memory.\n",
    "\n",
    "One way to elimiate the extra latency is to use [model pipelining](https://coral.ai/docs/edgetpu/pipeline/), which splits the model into segments that can run on separate Edge TPUs in series. This can significantly reduce the latency for big models.\n",
    "\n",
    "The following table provides recommendations for the number of Edge TPUs to use with each EfficientDet-Lite model.\n",
    "\n",
    "| Model architecture | Minimum TPUs | Recommended TPUs\n",
    "|--------------------|-------|-------|\n",
    "| EfficientDet-Lite0 | 1     | 1     |\n",
    "| EfficientDet-Lite1 | 1     | 1     |\n",
    "| EfficientDet-Lite2 | 1     | 2     |\n",
    "| EfficientDet-Lite3 | 2     | 2     |\n",
    "| EfficientDet-Lite4 | 2     | 3     |\n",
    "\n",
    "If you need extra Edge TPUs for your model, then update `NUMBER_OF_TPUS` here:"
   ]
  },
  {
   "cell_type": "code",
   "execution_count": null,
   "metadata": {
    "colab": {
     "base_uri": "https://localhost:8080/"
    },
    "id": "JyptUjakAwzz",
    "outputId": "7a3dad3b-eeb4-45e1-fb68-f0436ac5a933"
   },
   "outputs": [],
   "source": [
    "NUMBER_OF_TPUS = 1\n",
    "\n",
    "!edgetpu_compiler android.tflite --num_segments=$NUMBER_OF_TPUS"
   ]
  },
  {
   "cell_type": "markdown",
   "metadata": {
    "id": "pJYXucYWTGqZ"
   },
   "source": [
    "Finally, we'll copy the metadata, including the label file, from the original TensorFlow Lite model to the EdgeTPU model."
   ]
  },
  {
   "cell_type": "code",
   "execution_count": null,
   "metadata": {
    "id": "8LY1WrgMJBFd"
   },
   "outputs": [],
   "source": [
    "populator_dst = metadata.MetadataPopulator.with_model_file('android_edgetpu.tflite')\n",
    "\n",
    "with open('android.tflite', 'rb') as f:\n",
    "  populator_dst.load_metadata_and_associated_files(f.read())\n",
    "\n",
    "populator_dst.populate()\n",
    "updated_model_buf = populator_dst.get_model_buffer()"
   ]
  }
 ],
 "metadata": {
  "accelerator": "GPU",
  "celltoolbar": "Tags",
  "colab": {
   "collapsed_sections": [],
   "name": "Model Maker Object Detection for Android Figurine",
   "provenance": []
  },
  "kernelspec": {
   "display_name": "venv38",
   "language": "python",
   "name": "venv38"
  },
  "language_info": {
   "codemirror_mode": {
    "name": "ipython",
    "version": 3
   },
   "file_extension": ".py",
   "mimetype": "text/x-python",
   "name": "python",
   "nbconvert_exporter": "python",
   "pygments_lexer": "ipython3",
   "version": "3.8.13"
  }
 },
 "nbformat": 4,
 "nbformat_minor": 1
}
